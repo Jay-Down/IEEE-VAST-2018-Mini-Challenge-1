{
  "nbformat": 4,
  "nbformat_minor": 0,
  "metadata": {
    "colab": {
      "name": "Sim+Vis CW1-Copy1.ipynb",
      "version": "0.3.2",
      "provenance": []
    },
    "kernelspec": {
      "name": "python2",
      "display_name": "Python 2"
    },
    "accelerator": "GPU"
  },
  "cells": [
    {
      "cell_type": "code",
      "metadata": {
        "id": "klEaeZDHIlju",
        "colab_type": "code",
        "outputId": "a877fab7-2772-476e-daa0-b68f3da819e8",
        "colab": {
          "base_uri": "https://localhost:8080/",
          "height": 34
        }
      },
      "source": [
        "from __future__ import division\n",
        "import pandas as pd\n",
        "import sklearn\n",
        "import librosa\n",
        "import numpy as np\n",
        "import matplotlib.pyplot as plt\n",
        "import tensorflow as tf\n",
        "import keras\n",
        "import re, os, sys\n",
        "import librosa.display\n",
        "import IPython.display as ipd\n",
        "%matplotlib inline\n"
      ],
      "execution_count": 0,
      "outputs": [
        {
          "output_type": "stream",
          "text": [
            "Using TensorFlow backend.\n"
          ],
          "name": "stderr"
        }
      ]
    },
    {
      "cell_type": "code",
      "metadata": {
        "id": "TijYZBnHIljz",
        "colab_type": "code",
        "colab": {}
      },
      "source": [
        "# read in bird call metadata\n",
        "\n",
        "bird_data = pd.read_csv('AllBirdsv4.csv')"
      ],
      "execution_count": 0,
      "outputs": []
    },
    {
      "cell_type": "code",
      "metadata": {
        "id": "7-tpK9N8Ilj1",
        "colab_type": "code",
        "colab": {}
      },
      "source": [
        "bird_data.head()"
      ],
      "execution_count": 0,
      "outputs": []
    },
    {
      "cell_type": "code",
      "metadata": {
        "id": "D0B1jXY9Ilj3",
        "colab_type": "code",
        "colab": {}
      },
      "source": [
        "# data tasks:\n",
        "# check no. classifications for each bird type - see if dataset balanced\n",
        "# check for no. quality assignments in each case (i.e. A or B)\n",
        "# assign numeric factors for each bird classification\n"
      ],
      "execution_count": 0,
      "outputs": []
    },
    {
      "cell_type": "code",
      "metadata": {
        "id": "ctOwh1j8Ilj5",
        "colab_type": "code",
        "colab": {}
      },
      "source": [
        "# turn string label names into numeric factor\n",
        "\n",
        "bird_class, bird_class_index = bird_data['English_name'].factorize()\n",
        "\n",
        "bird_data['bird_class']=bird_class\n",
        "\n",
        "bird_data.iloc[1000,:]"
      ],
      "execution_count": 0,
      "outputs": []
    },
    {
      "cell_type": "code",
      "metadata": {
        "id": "pSdUFEkIIlj7",
        "colab_type": "code",
        "colab": {}
      },
      "source": [
        "for i in bird_class_index:\n",
        "    print \"'%s'\"%i"
      ],
      "execution_count": 0,
      "outputs": []
    },
    {
      "cell_type": "code",
      "metadata": {
        "id": "Xra1mNgcIlj9",
        "colab_type": "code",
        "colab": {}
      },
      "source": [
        "# count number of bird calls in each class:\n",
        "# data is quite unbalanced, particularly overrepresented for classes 0, 2, 9, 10 and 15\n",
        "\n",
        "def classCount(data):\n",
        "    for i in (np.unique(data.bird_class)):\n",
        "        print 'class: %s  no. instances: %s'%(i, len(data[data.bird_class==i]))\n",
        "        \n",
        "classCount(bird_data)\n",
        "\n"
      ],
      "execution_count": 0,
      "outputs": []
    },
    {
      "cell_type": "code",
      "metadata": {
        "id": "QUSQ5hN7Ilj_",
        "colab_type": "code",
        "colab": {}
      },
      "source": [
        "# check bias for high-quality subset \n",
        "\n",
        "bd_hq = bird_data[bird_data['Quality'].isin(['A', 'B', 'C'])]\n",
        "\n",
        "classCount(bd_hq)"
      ],
      "execution_count": 0,
      "outputs": []
    },
    {
      "cell_type": "code",
      "metadata": {
        "id": "af1Ga-ZGIlkC",
        "colab_type": "code",
        "colab": {}
      },
      "source": [
        "# still unbalanced, however may not be important depending on methodology; flag as possible area to return to if\n",
        "# poor results"
      ],
      "execution_count": 0,
      "outputs": []
    },
    {
      "cell_type": "code",
      "metadata": {
        "id": "yIFfVrjoIlkE",
        "colab_type": "code",
        "colab": {}
      },
      "source": [
        "len(bd_hq)"
      ],
      "execution_count": 0,
      "outputs": []
    },
    {
      "cell_type": "code",
      "metadata": {
        "id": "H4YZjNUiIlkG",
        "colab_type": "code",
        "colab": {}
      },
      "source": [
        "# list of audio filenames\n",
        "\n",
        "filenames = [fn for fn in os.listdir('ALL BIRDS/')]\n",
        "\n",
        "# list of all fileIDs for renaming files\n",
        "\n",
        "fileID = bird_data['File ID']\n"
      ],
      "execution_count": 0,
      "outputs": []
    },
    {
      "cell_type": "code",
      "metadata": {
        "id": "mAbxjL4NIlkI",
        "colab_type": "code",
        "colab": {}
      },
      "source": [
        "'''\n",
        "\n",
        "# reassign filenames as just IDs\n",
        "#path = '/home/k1896084/Documents/Semester 2/Data Vis/CW/Data/ALL BIRDS'\n",
        "\n",
        "path = \"/Users/jay/Documents/Jay's bits/Uni/Sim and Vis/CW/2018 Mini-Challenge 1/ALL BIRDS\"\n",
        "\n",
        "no_files = len(filenames)\n",
        "file_no = 0\n",
        "for fid in fileID:\n",
        "    fID = re.compile('.*-' + str(fid)+'.mp3')\n",
        "    for fn in filenames:\n",
        "        file_no+=1\n",
        "        if fID.match(fn):\n",
        "            os.rename(path+'/'+fn, path+'/'+str(fid))\n",
        "            print 'Renamed: %s file no. %s/%s'%(fn, file_no, no_files)\n",
        "            \n",
        "'''"
      ],
      "execution_count": 0,
      "outputs": []
    },
    {
      "cell_type": "code",
      "metadata": {
        "id": "gm113OSFIlkK",
        "colab_type": "code",
        "colab": {}
      },
      "source": [
        "# list of high-quality fileIDs for loading audio data\n",
        "\n",
        "HQ_fileID = bd_hq['File ID']\n"
      ],
      "execution_count": 0,
      "outputs": []
    },
    {
      "cell_type": "code",
      "metadata": {
        "id": "43mGAHnzIlkM",
        "colab_type": "code",
        "colab": {}
      },
      "source": [
        "# window function for mfcc extraction, hop length of half window size gives half-overlapping segments for feature \n",
        "# extraction\n",
        "\n",
        "def windows(data, window_size):\n",
        "    start = 0\n",
        "    while start < len(data):\n",
        "        yield start, start + window_size\n",
        "        start += (window_size // 2)\n",
        "\n",
        "# frames = 41 corresponds to 0.5s window (check lit), 512 bins per window gives window size of \n"
      ],
      "execution_count": 0,
      "outputs": []
    },
    {
      "cell_type": "code",
      "metadata": {
        "id": "gUBDFLICIlkO",
        "colab_type": "code",
        "colab": {}
      },
      "source": [
        "# loading files based on fileID\n",
        "# files are at 44.1kHz; resampled to 22kHz by default\n",
        "'''\n",
        "def dataLoad(fileID, n_mfcc=20, frames=41):\n",
        "\n",
        "    mfccs=[]\n",
        "    labels=[]\n",
        "    ref_ID=[]\n",
        "    count = len(fileID)\n",
        "    window_size=512*(frames-1)\n",
        "    \n",
        "    try:\n",
        "        for i, fid in enumerate(fileID):\n",
        "            print 'loading %s/%s: %s'%(str(i), str(count), str(fid))\n",
        "            # load audio \n",
        "            audio, sr = librosa.load('ALL BIRDS/'+str(fid))\n",
        "            # normalise audio\n",
        "            audio_normalised = librosa.util.normalize(audio)\n",
        "            # get frame intervals of non-silent clip sections\n",
        "            split_audio = librosa.effects.split(audio_normalised, frame_length=32768, hop_length=256, top_db=10)\n",
        "            split_chirps = list()\n",
        "            \n",
        "            for i, segment in enumerate(split_audio):\n",
        "                for (start,end) in windows(segment, window_size):\n",
        "                    start = int(start)\n",
        "                    end = int(end)\n",
        "                    if(len(segment[start:end]) == window_size):\n",
        "                        signal = segment[start:end]\n",
        "                        mfcc = librosa.feature.mfcc(y=signal, sr=sr, n_mfcc = n_mfcc).T.flatten()[:, np.newaxis].T\n",
        "                        mfccs.append(mfcc)\n",
        "                        label = int(bd_hq[bd_hq['File ID']==fid].bird_class)\n",
        "                        labels.append(label)\n",
        "                        ref_ID.append(id)\n",
        "            features = np.asarray(mfccs).reshape(len(mfccs),n_mfcc,frames)\n",
        "           \n",
        "        print 'done'\n",
        "    \n",
        "    except IOError as IOE:\n",
        "        print 'Unable to load audio for %s \\n Error message: %s'%(fid, IOE)\n",
        "    \n",
        "    return np.array(features), np.array(labels,dtype = np.int), np.array(ref_ID)\n",
        "    \n",
        "'''"
      ],
      "execution_count": 0,
      "outputs": []
    },
    {
      "cell_type": "code",
      "metadata": {
        "id": "q8bCapmgIlkQ",
        "colab_type": "code",
        "colab": {}
      },
      "source": [
        "# loading files based on fileID\n",
        "# files are at 44.1kHz; resampled to 22kHz by default\n",
        "\n",
        "def dataLoad(fileID, bands=20, frames=41):\n",
        "\n",
        "    mfccs=[]\n",
        "    labels=[]\n",
        "    ref_ID=[]\n",
        "    count = len(fileID)\n",
        "    window_size=512*(frames-1)\n",
        "    \n",
        "    try:\n",
        "        for i, fid in enumerate(fileID):\n",
        "            print 'loading %s/%s: %s'%(str(i), str(count), str(fid))\n",
        "            # load audio \n",
        "            sound_clip, s = librosa.load('ALL BIRDS/'+str(fid))\n",
        "            # Normalize audio\n",
        "            sound_clip_normalized = librosa.util.normalize(sound_clip)\n",
        "\n",
        "            # Split audio time series into non-silent sections\n",
        "            split_array = librosa.effects.split(sound_clip_normalized, top_db=10, frame_length=32768, hop_length=256)\n",
        "            split_chirps = []\n",
        "\n",
        "            # Reform a single time series from the separate non-silent components\n",
        "            for i,interval in enumerate(split_array):\n",
        "                split_chirps.append(librosa.effects.remix(sound_clip_normalized, intervals=[interval]))\n",
        "\n",
        "            # Set classification labels for later machine learning using corresponding Species ID\n",
        "            label = int(bd_hq[bd_hq['File ID']==fid].bird_class)\n",
        "\n",
        "            # Loop through each individual audio segment (bird chirp) and apply MFCC to generate features\n",
        "            for i, audio_segment in enumerate(split_chirps):\n",
        "                for (start,end) in windows(audio_segment,window_size):\n",
        "                    start = int(start)\n",
        "                    end = int(end)\n",
        "                    if(len(audio_segment[start:end]) == window_size):\n",
        "                        signal = audio_segment[start:end]\n",
        "                        mfcc = librosa.feature.mfcc(y=signal, sr=s, n_mfcc = bands).T.flatten()[:, np.newaxis].T\n",
        "                        mfccs.append(mfcc)\n",
        "                        labels.append(label)\n",
        "                        ref_ID.append(id)\n",
        "        features = np.asarray(mfccs).reshape(len(mfccs),bands,frames)\n",
        "           \n",
        "        print 'done'\n",
        "    \n",
        "    except IOError as IOE:\n",
        "        print 'Unable to load audio for %s \\n Error message: %s'%(fid, IOE)\n",
        "        \n",
        "    except:\n",
        "        print 'Unexpected error whilst loading file %s \\n Error message: %s'% (fid, sys.exc_info()[0])\n",
        "    \n",
        "    finally:\n",
        "        features = np.asarray(mfccs).reshape(len(mfccs),bands,frames)\n",
        "        return np.array(features), np.array(labels,dtype = np.int), np.array(ref_ID)\n",
        "\n",
        "    return np.array(features), np.array(labels,dtype = np.int), np.array(ref_ID)"
      ],
      "execution_count": 0,
      "outputs": []
    },
    {
      "cell_type": "code",
      "metadata": {
        "id": "fYnfUe2PIlkS",
        "colab_type": "code",
        "colab": {}
      },
      "source": [
        "def one_hot_encode(labels):\n",
        "    n_labels = len(labels)\n",
        "    n_unique_labels = len(np.unique(labels))\n",
        "    one_hot_encode = np.zeros((n_labels,n_unique_labels))\n",
        "    one_hot_encode[np.arange(n_labels), labels] = 1\n",
        "    return one_hot_encode"
      ],
      "execution_count": 0,
      "outputs": []
    },
    {
      "cell_type": "code",
      "metadata": {
        "id": "XAdi--ivIlkX",
        "colab_type": "code",
        "colab": {}
      },
      "source": [
        "\"\"\"\n",
        "\n",
        "# load in data\n",
        "\n",
        "# backend error for file 340294\n",
        "HQ_fileID=HQ_fileID[HQ_fileID!=340294]\n",
        "\n",
        "\n",
        "features, labels, ref_ID = dataLoad(HQ_fileID)\n",
        "\n",
        "\"\"\""
      ],
      "execution_count": 0,
      "outputs": []
    },
    {
      "cell_type": "code",
      "metadata": {
        "id": "_WxQvnNiIlkb",
        "colab_type": "code",
        "colab": {}
      },
      "source": [
        "\"\"\"\n",
        "\n",
        "labels = one_hot_encode(labels)\n",
        "\"\"\""
      ],
      "execution_count": 0,
      "outputs": []
    },
    {
      "cell_type": "code",
      "metadata": {
        "id": "zyo7EphOIlkd",
        "colab_type": "code",
        "colab": {}
      },
      "source": [
        "# save processed data"
      ],
      "execution_count": 0,
      "outputs": []
    },
    {
      "cell_type": "markdown",
      "metadata": {
        "id": "OEzSTH3UIlkf",
        "colab_type": "text"
      },
      "source": [
        "np.save('features.npy', features)"
      ]
    },
    {
      "cell_type": "markdown",
      "metadata": {
        "id": "bnWMuNyWIlkf",
        "colab_type": "text"
      },
      "source": [
        "np.save('labels.npy', labels)"
      ]
    },
    {
      "cell_type": "markdown",
      "metadata": {
        "id": "kkBOJkzeIlkg",
        "colab_type": "text"
      },
      "source": [
        "np.save('ref_IDs.npy', ref_ID)"
      ]
    },
    {
      "cell_type": "code",
      "metadata": {
        "id": "T4EoDd1_Ilkg",
        "colab_type": "code",
        "colab": {}
      },
      "source": [
        "# load files with np.load()"
      ],
      "execution_count": 0,
      "outputs": []
    },
    {
      "cell_type": "code",
      "metadata": {
        "id": "IODFZG55OwQw",
        "colab_type": "code",
        "outputId": "ea7b930e-bd80-4d24-fe12-0a114b4567f6",
        "colab": {
          "resources": {
            "http://localhost:8080/nbextensions/google.colab/files.js": {
              "data": "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",
              "ok": true,
              "headers": [
                [
                  "content-type",
                  "application/javascript"
                ]
              ],
              "status": 200,
              "status_text": ""
            }
          },
          "base_uri": "https://localhost:8080/",
          "height": 37
        }
      },
      "source": [
        "from google.colab import files\n",
        "uploaded = files.upload()"
      ],
      "execution_count": 0,
      "outputs": [
        {
          "output_type": "display_data",
          "data": {
            "text/plain": [
              "<IPython.core.display.HTML object>"
            ],
            "text/html": [
              "\n",
              "     <input type=\"file\" id=\"files-f4cf2ced-aeb1-480f-a801-99561c97bca4\" name=\"files[]\" multiple disabled />\n",
              "     <output id=\"result-f4cf2ced-aeb1-480f-a801-99561c97bca4\">\n",
              "      Upload widget is only available when the cell has been executed in the\n",
              "      current browser session. Please rerun this cell to enable.\n",
              "      </output>\n",
              "      <script src=\"/nbextensions/google.colab/files.js\"></script> "
            ]
          },
          "metadata": {
            "tags": []
          }
        }
      ]
    },
    {
      "cell_type": "code",
      "metadata": {
        "id": "LQPM6UA6PUGD",
        "colab_type": "code",
        "outputId": "184105ce-4248-4134-9089-5b711ce2b22c",
        "colab": {
          "base_uri": "https://localhost:8080/",
          "height": 34
        }
      },
      "source": [
        "from google.colab import drive\n",
        "drive.mount('/content/gdrive')"
      ],
      "execution_count": 0,
      "outputs": [
        {
          "output_type": "stream",
          "text": [
            "Drive already mounted at /content/gdrive; to attempt to forcibly remount, call drive.mount(\"/content/gdrive\", force_remount=True).\n"
          ],
          "name": "stdout"
        }
      ]
    },
    {
      "cell_type": "code",
      "metadata": {
        "id": "ft3WpDiYWk_B",
        "colab_type": "code",
        "colab": {}
      },
      "source": [
        "features = np.load('/content/gdrive/My Drive/Colab Notebooks/features.npy')"
      ],
      "execution_count": 0,
      "outputs": []
    },
    {
      "cell_type": "code",
      "metadata": {
        "id": "LqdQ1fq5RRfR",
        "colab_type": "code",
        "outputId": "903f5dbb-6046-49b4-dc73-8def235c2b86",
        "colab": {
          "base_uri": "https://localhost:8080/",
          "height": 34
        }
      },
      "source": [
        "features.shape"
      ],
      "execution_count": 0,
      "outputs": [
        {
          "output_type": "execute_result",
          "data": {
            "text/plain": [
              "(74084, 20, 41)"
            ]
          },
          "metadata": {
            "tags": []
          },
          "execution_count": 50
        }
      ]
    },
    {
      "cell_type": "code",
      "metadata": {
        "id": "CPy9m7WqWdOo",
        "colab_type": "code",
        "colab": {}
      },
      "source": [
        "with open('/content/gdrive/My Drive/features.npy', 'r') as f:\n",
        "  "
      ],
      "execution_count": 0,
      "outputs": []
    },
    {
      "cell_type": "code",
      "metadata": {
        "id": "qzuKXN8HRL6K",
        "colab_type": "code",
        "colab": {}
      },
      "source": [
        "!pip install -U -q PyDrive\n",
        "\n",
        "from pydrive.auth import GoogleAuth\n",
        "from pydrive.drive import GoogleDrive\n",
        "from google.colab import auth\n",
        "from oauth2client.client import GoogleCredentials\n",
        "\n",
        "# 1. Authenticate and create the PyDrive client.\n",
        "auth.authenticate_user()\n",
        "gauth = GoogleAuth()\n",
        "gauth.credentials = GoogleCredentials.get_application_default()\n",
        "drive = GoogleDrive(gauth)"
      ],
      "execution_count": 0,
      "outputs": []
    },
    {
      "cell_type": "code",
      "metadata": {
        "id": "1Ed9bnipIlki",
        "colab_type": "code",
        "colab": {}
      },
      "source": [
        "path = \"/content/gdrive/My Drive/Colab Notebooks/\"\n",
        "\n",
        "labels = np.load(path+'/labels.npy')\n",
        "#features = np.load('features.npy')\n",
        "ref_ID = np.load(path+'ref_IDs.npy')"
      ],
      "execution_count": 0,
      "outputs": []
    },
    {
      "cell_type": "code",
      "metadata": {
        "id": "gk04JB4sOQio",
        "colab_type": "code",
        "colab": {}
      },
      "source": [
        ""
      ],
      "execution_count": 0,
      "outputs": []
    },
    {
      "cell_type": "markdown",
      "metadata": {
        "id": "DjZpQOl_Ilkk",
        "colab_type": "text"
      },
      "source": [
        "audio_df = pd.DataFrame(audio_data, columns=['fileID','audio', 'label'])"
      ]
    },
    {
      "cell_type": "code",
      "metadata": {
        "id": "kY_BDoZJIlkk",
        "colab_type": "code",
        "colab": {}
      },
      "source": [
        "# half no. bins as samples in set, i.e. 1024 samples = 512 bins\n",
        "# max freq. can resolve is half sample rate (i.e. 11kHz)\n",
        "# bins spread evenly over freq range; e.g. 11kHz over 512 bins = 21.48 Hz/bin\n",
        "# hard to know if this resolution is suitable without knowing average frequencies of bird calls\n",
        "# take subset of A quality bird audio, one for each class, and do some analysis"
      ],
      "execution_count": 0,
      "outputs": []
    },
    {
      "cell_type": "code",
      "metadata": {
        "id": "FnTSA4SNIlkm",
        "colab_type": "code",
        "colab": {}
      },
      "source": [
        "# create random subset of high quality bird call exemplars for exploration\n",
        "\n",
        "subset = []\n",
        "\n",
        "for i in (pd.unique(bird_data.bird_class)):\n",
        "    tmp = bird_data[(bird_data['bird_class']==i) & (bird_data['Quality']=='A')]\n",
        "    idx = [np.random.choice(tmp['File ID'])]\n",
        "    subset.append(dataLoad(idx))"
      ],
      "execution_count": 0,
      "outputs": []
    },
    {
      "cell_type": "code",
      "metadata": {
        "id": "0EkdWBWCIlko",
        "colab_type": "code",
        "colab": {}
      },
      "source": [
        "import itertools\n",
        "subset = [i for i in itertools.chain.from_iterable(subset)]"
      ],
      "execution_count": 0,
      "outputs": []
    },
    {
      "cell_type": "code",
      "metadata": {
        "id": "NHHo39p_Ilkq",
        "colab_type": "code",
        "colab": {}
      },
      "source": [
        "subset = pd.DataFrame(subset, columns=['fileID','audio', 'label'])\n",
        "\n",
        "subset"
      ],
      "execution_count": 0,
      "outputs": []
    },
    {
      "cell_type": "code",
      "metadata": {
        "id": "styoCYKCIlks",
        "colab_type": "code",
        "colab": {}
      },
      "source": [
        "# calculate spectral centroids for each\n",
        "\n",
        "s_c = []\n",
        "\n",
        "#for i in (pd.unique(bird_data.bird_class)):\n",
        " #   s_c.append([i, np.mean(librosa.feature.spectral_centroid(subset['audio'][i]))])\n",
        "    \n",
        "for i in (pd.unique(bird_data.bird_class)):\n",
        "    s_c.append(np.mean(librosa.feature.spectral_centroid(subset['audio'][i])))    \n",
        "\n",
        "print 'f_min: ', min(s_c)\n",
        "\n",
        "print 'f_max: ', max(s_c)\n",
        "    \n",
        "# average frequency of average frequencies in each clip = 3672Hz; don't need resolution much higher than this when \n",
        "# extracting mfccs\n",
        "print 'mean F: ', np.mean(s_c)"
      ],
      "execution_count": 0,
      "outputs": []
    },
    {
      "cell_type": "code",
      "metadata": {
        "id": "qLwEawWpIlku",
        "colab_type": "code",
        "colab": {}
      },
      "source": [
        "# window function for mfcc extraction, hop length of half window size gives half-overlapping segments for feature \n",
        "# extraction\n",
        "\n",
        "def windows(data, window_size):\n",
        "    start = 0\n",
        "    while start < len(data):\n",
        "        yield start, start + window_size\n",
        "        start += (window_size // 2)\n",
        "\n",
        "# frames = 41 corresponds to 0.5s window (check lit), 512 bins per window gives window size of \n",
        "\n",
        "# performs feature extraction on dataframe of processed audio data\n",
        "def featureExtraction(audio_data, n_mfcc=20, sr=22050, frames=41):\n",
        "    \n",
        "    mfccs=[]\n",
        "    labels=[]\n",
        "    \n",
        "    window_size=512*(frames-1)\n",
        "\n",
        "    for i in range(len(audio_data)):\n",
        "        clip = audio_data['audio'][i]\n",
        "        for (start,end) in windows(clip, window_size):\n",
        "            start = int(start)\n",
        "            end = int(end)\n",
        "            if(len(tst[start:end]) == window_size):\n",
        "                signal = tst[start:end]\n",
        "                mfcc = librosa.feature.mfcc(y=signal, sr=22050, n_mfcc = 20)#.T.flatten()[:, np.newaxis].T\n",
        "                scaler = sklearn.preprocessing.StandardScaler()\n",
        "                mfcc_scaled = scaler.fit_transform(mfcc)\n",
        "                mfccs.append(mfcc)\n",
        "                label = audio_data['label'][i]\n",
        "                labels.append(label)\n",
        "    return np.array(mfccs), np.array(labels)\n",
        "\n"
      ],
      "execution_count": 0,
      "outputs": []
    },
    {
      "cell_type": "code",
      "metadata": {
        "id": "DyEIjZ1AIlkw",
        "colab_type": "code",
        "colab": {}
      },
      "source": [
        "subset_features, sub_labels = featureExtraction(subset)"
      ],
      "execution_count": 0,
      "outputs": []
    },
    {
      "cell_type": "code",
      "metadata": {
        "id": "IY31M6DQIlkx",
        "colab_type": "code",
        "colab": {}
      },
      "source": [
        "audio_features, labels = featureExtraction(audio_df)\n"
      ],
      "execution_count": 0,
      "outputs": []
    },
    {
      "cell_type": "code",
      "metadata": {
        "id": "HkYYWwi9Ilk0",
        "colab_type": "code",
        "colab": {}
      },
      "source": [
        "audio_features.shape"
      ],
      "execution_count": 0,
      "outputs": []
    },
    {
      "cell_type": "code",
      "metadata": {
        "id": "PcUy3Zxrc6z0",
        "colab_type": "code",
        "colab": {}
      },
      "source": [
        "float_labels = np.where(labels==1)[1]"
      ],
      "execution_count": 0,
      "outputs": []
    },
    {
      "cell_type": "code",
      "metadata": {
        "id": "yDmK_O76Ilk2",
        "colab_type": "code",
        "colab": {}
      },
      "source": [
        "from sklearn.model_selection import train_test_split\n",
        "\n",
        "X_train, X_tstv, y_train, y_tstv = train_test_split(features, labels, test_size=0.2)\n",
        "\n",
        "# X_train, X_tstv, y_train, y_tstv = train_test_split(audio_features, labels_onehot, test_size=0.2)\n",
        "\n",
        "X_val, X_test, y_val, y_test = train_test_split(X_tstv, y_tstv, test_size=0.2)"
      ],
      "execution_count": 0,
      "outputs": []
    },
    {
      "cell_type": "code",
      "metadata": {
        "colab_type": "code",
        "id": "lL1aJELpdF2D",
        "colab": {}
      },
      "source": [
        "from sklearn.model_selection import train_test_split\n",
        "\n",
        "X_train, X_tstv, y_train, y_tstv = train_test_split(features, float_labels, test_size=0.2)\n",
        "\n",
        "# X_train, X_tstv, y_train, y_tstv = train_test_split(audio_features, float_labels, test_size=0.2)\n",
        "\n",
        "X_val, X_test, y_val, y_test = train_test_split(X_tstv, y_tstv, test_size=0.2)"
      ],
      "execution_count": 0,
      "outputs": []
    },
    {
      "cell_type": "markdown",
      "metadata": {
        "id": "zKHgy7C3dDln",
        "colab_type": "text"
      },
      "source": [
        ""
      ]
    },
    {
      "cell_type": "markdown",
      "metadata": {
        "id": "PKI9LJ7AIlk4",
        "colab_type": "text"
      },
      "source": [
        "# RNN classification"
      ]
    },
    {
      "cell_type": "code",
      "metadata": {
        "id": "uPAU0nhOIlk5",
        "colab_type": "code",
        "outputId": "8029213e-2cdb-4313-a307-0773fa3f0503",
        "colab": {
          "base_uri": "https://localhost:8080/",
          "height": 3227
        }
      },
      "source": [
        "n_steps=20\n",
        "n_inputs = 41\n",
        "n_neurons = 150\n",
        "n_outputs = 19\n",
        "\n",
        "lr = 0.001\n",
        "\n",
        "X = tf.placeholder(tf.float32, [None, n_steps, n_inputs])\n",
        "y = tf.placeholder(tf.int32, [None])\n",
        "\n",
        "basic_cell = tf.nn.rnn_cell.BasicRNNCell(num_units=n_neurons)\n",
        "outputs, states = tf.nn.dynamic_rnn(basic_cell, X, dtype=tf.float32)\n",
        "\n",
        "logits = tf.layers.dense(states, n_outputs)\n",
        "xentropy = tf.nn.sparse_softmax_cross_entropy_with_logits(labels=y, logits=logits)\n",
        "\n",
        "loss = tf.reduce_mean(xentropy)\n",
        "optimiser = tf.train.AdamOptimizer(learning_rate=lr)\n",
        "training_op = optimiser.minimize(loss)\n",
        "correct = tf.nn.in_top_k(logits, y, 1)\n",
        "accuracy = tf.reduce_mean(tf.cast(correct, tf.float32))\n",
        "\n",
        "init = tf.global_variables_initializer()"
      ],
      "execution_count": 0,
      "outputs": [
        {
          "output_type": "error",
          "ename": "ValueError",
          "evalue": "ignored",
          "traceback": [
            "\u001b[0;31m\u001b[0m",
            "\u001b[0;31mValueError\u001b[0mTraceback (most recent call last)",
            "\u001b[0;32m<ipython-input-55-c0d6db5b4e4d>\u001b[0m in \u001b[0;36m<module>\u001b[0;34m()\u001b[0m\n\u001b[1;32m     10\u001b[0m \u001b[0;34m\u001b[0m\u001b[0m\n\u001b[1;32m     11\u001b[0m \u001b[0mbasic_cell\u001b[0m \u001b[0;34m=\u001b[0m \u001b[0mtf\u001b[0m\u001b[0;34m.\u001b[0m\u001b[0mnn\u001b[0m\u001b[0;34m.\u001b[0m\u001b[0mrnn_cell\u001b[0m\u001b[0;34m.\u001b[0m\u001b[0mBasicRNNCell\u001b[0m\u001b[0;34m(\u001b[0m\u001b[0mnum_units\u001b[0m\u001b[0;34m=\u001b[0m\u001b[0mn_neurons\u001b[0m\u001b[0;34m)\u001b[0m\u001b[0;34m\u001b[0m\u001b[0m\n\u001b[0;32m---> 12\u001b[0;31m \u001b[0moutputs\u001b[0m\u001b[0;34m,\u001b[0m \u001b[0mstates\u001b[0m \u001b[0;34m=\u001b[0m \u001b[0mtf\u001b[0m\u001b[0;34m.\u001b[0m\u001b[0mnn\u001b[0m\u001b[0;34m.\u001b[0m\u001b[0mdynamic_rnn\u001b[0m\u001b[0;34m(\u001b[0m\u001b[0mbasic_cell\u001b[0m\u001b[0;34m,\u001b[0m \u001b[0mX\u001b[0m\u001b[0;34m,\u001b[0m \u001b[0mdtype\u001b[0m\u001b[0;34m=\u001b[0m\u001b[0mtf\u001b[0m\u001b[0;34m.\u001b[0m\u001b[0mfloat32\u001b[0m\u001b[0;34m)\u001b[0m\u001b[0;34m\u001b[0m\u001b[0m\n\u001b[0m\u001b[1;32m     13\u001b[0m \u001b[0;34m\u001b[0m\u001b[0m\n\u001b[1;32m     14\u001b[0m \u001b[0mlogits\u001b[0m \u001b[0;34m=\u001b[0m \u001b[0mtf\u001b[0m\u001b[0;34m.\u001b[0m\u001b[0mlayers\u001b[0m\u001b[0;34m.\u001b[0m\u001b[0mdense\u001b[0m\u001b[0;34m(\u001b[0m\u001b[0mstates\u001b[0m\u001b[0;34m,\u001b[0m \u001b[0mn_outputs\u001b[0m\u001b[0;34m)\u001b[0m\u001b[0;34m\u001b[0m\u001b[0m\n",
            "\u001b[0;32m/usr/local/lib/python2.7/dist-packages/tensorflow/python/util/deprecation.pyc\u001b[0m in \u001b[0;36mnew_func\u001b[0;34m(*args, **kwargs)\u001b[0m\n\u001b[1;32m    322\u001b[0m               \u001b[0;34m'in a future version'\u001b[0m \u001b[0;32mif\u001b[0m \u001b[0mdate\u001b[0m \u001b[0;32mis\u001b[0m \u001b[0mNone\u001b[0m \u001b[0;32melse\u001b[0m \u001b[0;34m(\u001b[0m\u001b[0;34m'after %s'\u001b[0m \u001b[0;34m%\u001b[0m \u001b[0mdate\u001b[0m\u001b[0;34m)\u001b[0m\u001b[0;34m,\u001b[0m\u001b[0;34m\u001b[0m\u001b[0m\n\u001b[1;32m    323\u001b[0m               instructions)\n\u001b[0;32m--> 324\u001b[0;31m       \u001b[0;32mreturn\u001b[0m \u001b[0mfunc\u001b[0m\u001b[0;34m(\u001b[0m\u001b[0;34m*\u001b[0m\u001b[0margs\u001b[0m\u001b[0;34m,\u001b[0m \u001b[0;34m**\u001b[0m\u001b[0mkwargs\u001b[0m\u001b[0;34m)\u001b[0m\u001b[0;34m\u001b[0m\u001b[0m\n\u001b[0m\u001b[1;32m    325\u001b[0m     return tf_decorator.make_decorator(\n\u001b[1;32m    326\u001b[0m         \u001b[0mfunc\u001b[0m\u001b[0;34m,\u001b[0m \u001b[0mnew_func\u001b[0m\u001b[0;34m,\u001b[0m \u001b[0;34m'deprecated'\u001b[0m\u001b[0;34m,\u001b[0m\u001b[0;34m\u001b[0m\u001b[0m\n",
            "\u001b[0;32m/usr/local/lib/python2.7/dist-packages/tensorflow/python/ops/rnn.pyc\u001b[0m in \u001b[0;36mdynamic_rnn\u001b[0;34m(cell, inputs, sequence_length, initial_state, dtype, parallel_iterations, swap_memory, time_major, scope)\u001b[0m\n\u001b[1;32m    669\u001b[0m         \u001b[0mswap_memory\u001b[0m\u001b[0;34m=\u001b[0m\u001b[0mswap_memory\u001b[0m\u001b[0;34m,\u001b[0m\u001b[0;34m\u001b[0m\u001b[0m\n\u001b[1;32m    670\u001b[0m         \u001b[0msequence_length\u001b[0m\u001b[0;34m=\u001b[0m\u001b[0msequence_length\u001b[0m\u001b[0;34m,\u001b[0m\u001b[0;34m\u001b[0m\u001b[0m\n\u001b[0;32m--> 671\u001b[0;31m         dtype=dtype)\n\u001b[0m\u001b[1;32m    672\u001b[0m \u001b[0;34m\u001b[0m\u001b[0m\n\u001b[1;32m    673\u001b[0m     \u001b[0;31m# Outputs of _dynamic_rnn_loop are always shaped [time, batch, depth].\u001b[0m\u001b[0;34m\u001b[0m\u001b[0;34m\u001b[0m\u001b[0m\n",
            "\u001b[0;32m/usr/local/lib/python2.7/dist-packages/tensorflow/python/ops/rnn.pyc\u001b[0m in \u001b[0;36m_dynamic_rnn_loop\u001b[0;34m(cell, inputs, initial_state, parallel_iterations, swap_memory, sequence_length, dtype)\u001b[0m\n\u001b[1;32m    877\u001b[0m       \u001b[0mparallel_iterations\u001b[0m\u001b[0;34m=\u001b[0m\u001b[0mparallel_iterations\u001b[0m\u001b[0;34m,\u001b[0m\u001b[0;34m\u001b[0m\u001b[0m\n\u001b[1;32m    878\u001b[0m       \u001b[0mmaximum_iterations\u001b[0m\u001b[0;34m=\u001b[0m\u001b[0mtime_steps\u001b[0m\u001b[0;34m,\u001b[0m\u001b[0;34m\u001b[0m\u001b[0m\n\u001b[0;32m--> 879\u001b[0;31m       swap_memory=swap_memory)\n\u001b[0m\u001b[1;32m    880\u001b[0m \u001b[0;34m\u001b[0m\u001b[0m\n\u001b[1;32m    881\u001b[0m   \u001b[0;31m# Unpack final output if not using output tuples.\u001b[0m\u001b[0;34m\u001b[0m\u001b[0;34m\u001b[0m\u001b[0m\n",
            "\u001b[0;32m/usr/local/lib/python2.7/dist-packages/tensorflow/python/ops/control_flow_ops.pyc\u001b[0m in \u001b[0;36mwhile_loop\u001b[0;34m(cond, body, loop_vars, shape_invariants, parallel_iterations, back_prop, swap_memory, name, maximum_iterations, return_same_structure)\u001b[0m\n\u001b[1;32m   3554\u001b[0m       \u001b[0mops\u001b[0m\u001b[0;34m.\u001b[0m\u001b[0madd_to_collection\u001b[0m\u001b[0;34m(\u001b[0m\u001b[0mops\u001b[0m\u001b[0;34m.\u001b[0m\u001b[0mGraphKeys\u001b[0m\u001b[0;34m.\u001b[0m\u001b[0mWHILE_CONTEXT\u001b[0m\u001b[0;34m,\u001b[0m \u001b[0mloop_context\u001b[0m\u001b[0;34m)\u001b[0m\u001b[0;34m\u001b[0m\u001b[0m\n\u001b[1;32m   3555\u001b[0m     result = loop_context.BuildLoop(cond, body, loop_vars, shape_invariants,\n\u001b[0;32m-> 3556\u001b[0;31m                                     return_same_structure)\n\u001b[0m\u001b[1;32m   3557\u001b[0m     \u001b[0;32mif\u001b[0m \u001b[0mmaximum_iterations\u001b[0m \u001b[0;32mis\u001b[0m \u001b[0;32mnot\u001b[0m \u001b[0mNone\u001b[0m\u001b[0;34m:\u001b[0m\u001b[0;34m\u001b[0m\u001b[0m\n\u001b[1;32m   3558\u001b[0m       \u001b[0;32mreturn\u001b[0m \u001b[0mresult\u001b[0m\u001b[0;34m[\u001b[0m\u001b[0;36m1\u001b[0m\u001b[0;34m]\u001b[0m\u001b[0;34m\u001b[0m\u001b[0m\n",
            "\u001b[0;32m/usr/local/lib/python2.7/dist-packages/tensorflow/python/ops/control_flow_ops.pyc\u001b[0m in \u001b[0;36mBuildLoop\u001b[0;34m(self, pred, body, loop_vars, shape_invariants, return_same_structure)\u001b[0m\n\u001b[1;32m   3085\u001b[0m       \u001b[0;32mwith\u001b[0m \u001b[0mops\u001b[0m\u001b[0;34m.\u001b[0m\u001b[0mget_default_graph\u001b[0m\u001b[0;34m(\u001b[0m\u001b[0;34m)\u001b[0m\u001b[0;34m.\u001b[0m\u001b[0m_mutation_lock\u001b[0m\u001b[0;34m(\u001b[0m\u001b[0;34m)\u001b[0m\u001b[0;34m:\u001b[0m  \u001b[0;31m# pylint: disable=protected-access\u001b[0m\u001b[0;34m\u001b[0m\u001b[0m\n\u001b[1;32m   3086\u001b[0m         original_body_result, exit_vars = self._BuildLoop(\n\u001b[0;32m-> 3087\u001b[0;31m             pred, body, original_loop_vars, loop_vars, shape_invariants)\n\u001b[0m\u001b[1;32m   3088\u001b[0m     \u001b[0;32mfinally\u001b[0m\u001b[0;34m:\u001b[0m\u001b[0;34m\u001b[0m\u001b[0m\n\u001b[1;32m   3089\u001b[0m       \u001b[0mself\u001b[0m\u001b[0;34m.\u001b[0m\u001b[0mExit\u001b[0m\u001b[0;34m(\u001b[0m\u001b[0;34m)\u001b[0m\u001b[0;34m\u001b[0m\u001b[0m\n",
            "\u001b[0;32m/usr/local/lib/python2.7/dist-packages/tensorflow/python/ops/control_flow_ops.pyc\u001b[0m in \u001b[0;36m_BuildLoop\u001b[0;34m(self, pred, body, original_loop_vars, loop_vars, shape_invariants)\u001b[0m\n\u001b[1;32m   3020\u001b[0m         flat_sequence=vars_for_body_with_tensor_arrays)\n\u001b[1;32m   3021\u001b[0m     \u001b[0mpre_summaries\u001b[0m \u001b[0;34m=\u001b[0m \u001b[0mops\u001b[0m\u001b[0;34m.\u001b[0m\u001b[0mget_collection\u001b[0m\u001b[0;34m(\u001b[0m\u001b[0mops\u001b[0m\u001b[0;34m.\u001b[0m\u001b[0mGraphKeys\u001b[0m\u001b[0;34m.\u001b[0m\u001b[0m_SUMMARY_COLLECTION\u001b[0m\u001b[0;34m)\u001b[0m  \u001b[0;31m# pylint: disable=protected-access\u001b[0m\u001b[0;34m\u001b[0m\u001b[0m\n\u001b[0;32m-> 3022\u001b[0;31m     \u001b[0mbody_result\u001b[0m \u001b[0;34m=\u001b[0m \u001b[0mbody\u001b[0m\u001b[0;34m(\u001b[0m\u001b[0;34m*\u001b[0m\u001b[0mpacked_vars_for_body\u001b[0m\u001b[0;34m)\u001b[0m\u001b[0;34m\u001b[0m\u001b[0m\n\u001b[0m\u001b[1;32m   3023\u001b[0m     \u001b[0mpost_summaries\u001b[0m \u001b[0;34m=\u001b[0m \u001b[0mops\u001b[0m\u001b[0;34m.\u001b[0m\u001b[0mget_collection\u001b[0m\u001b[0;34m(\u001b[0m\u001b[0mops\u001b[0m\u001b[0;34m.\u001b[0m\u001b[0mGraphKeys\u001b[0m\u001b[0;34m.\u001b[0m\u001b[0m_SUMMARY_COLLECTION\u001b[0m\u001b[0;34m)\u001b[0m  \u001b[0;31m# pylint: disable=protected-access\u001b[0m\u001b[0;34m\u001b[0m\u001b[0m\n\u001b[1;32m   3024\u001b[0m     \u001b[0;32mif\u001b[0m \u001b[0;32mnot\u001b[0m \u001b[0mnest\u001b[0m\u001b[0;34m.\u001b[0m\u001b[0mis_sequence\u001b[0m\u001b[0;34m(\u001b[0m\u001b[0mbody_result\u001b[0m\u001b[0;34m)\u001b[0m\u001b[0;34m:\u001b[0m\u001b[0;34m\u001b[0m\u001b[0m\n",
            "\u001b[0;32m/usr/local/lib/python2.7/dist-packages/tensorflow/python/ops/control_flow_ops.pyc\u001b[0m in \u001b[0;36m<lambda>\u001b[0;34m(i, lv)\u001b[0m\n\u001b[1;32m   3523\u001b[0m         cond = lambda i, lv: (  # pylint: disable=g-long-lambda\n\u001b[1;32m   3524\u001b[0m             math_ops.logical_and(i < maximum_iterations, orig_cond(*lv)))\n\u001b[0;32m-> 3525\u001b[0;31m         \u001b[0mbody\u001b[0m \u001b[0;34m=\u001b[0m \u001b[0;32mlambda\u001b[0m \u001b[0mi\u001b[0m\u001b[0;34m,\u001b[0m \u001b[0mlv\u001b[0m\u001b[0;34m:\u001b[0m \u001b[0;34m(\u001b[0m\u001b[0mi\u001b[0m \u001b[0;34m+\u001b[0m \u001b[0;36m1\u001b[0m\u001b[0;34m,\u001b[0m \u001b[0morig_body\u001b[0m\u001b[0;34m(\u001b[0m\u001b[0;34m*\u001b[0m\u001b[0mlv\u001b[0m\u001b[0;34m)\u001b[0m\u001b[0;34m)\u001b[0m\u001b[0;34m\u001b[0m\u001b[0m\n\u001b[0m\u001b[1;32m   3526\u001b[0m \u001b[0;34m\u001b[0m\u001b[0m\n\u001b[1;32m   3527\u001b[0m     \u001b[0;32mif\u001b[0m \u001b[0mcontext\u001b[0m\u001b[0;34m.\u001b[0m\u001b[0mexecuting_eagerly\u001b[0m\u001b[0;34m(\u001b[0m\u001b[0;34m)\u001b[0m\u001b[0;34m:\u001b[0m\u001b[0;34m\u001b[0m\u001b[0m\n",
            "\u001b[0;32m/usr/local/lib/python2.7/dist-packages/tensorflow/python/ops/rnn.pyc\u001b[0m in \u001b[0;36m_time_step\u001b[0;34m(time, output_ta_t, state)\u001b[0m\n\u001b[1;32m    845\u001b[0m           skip_conditionals=True)\n\u001b[1;32m    846\u001b[0m     \u001b[0;32melse\u001b[0m\u001b[0;34m:\u001b[0m\u001b[0;34m\u001b[0m\u001b[0m\n\u001b[0;32m--> 847\u001b[0;31m       \u001b[0;34m(\u001b[0m\u001b[0moutput\u001b[0m\u001b[0;34m,\u001b[0m \u001b[0mnew_state\u001b[0m\u001b[0;34m)\u001b[0m \u001b[0;34m=\u001b[0m \u001b[0mcall_cell\u001b[0m\u001b[0;34m(\u001b[0m\u001b[0;34m)\u001b[0m\u001b[0;34m\u001b[0m\u001b[0m\n\u001b[0m\u001b[1;32m    848\u001b[0m \u001b[0;34m\u001b[0m\u001b[0m\n\u001b[1;32m    849\u001b[0m     \u001b[0;31m# Keras cells always wrap state as list, even if it's a single tensor.\u001b[0m\u001b[0;34m\u001b[0m\u001b[0;34m\u001b[0m\u001b[0m\n",
            "\u001b[0;32m/usr/local/lib/python2.7/dist-packages/tensorflow/python/ops/rnn.pyc\u001b[0m in \u001b[0;36m<lambda>\u001b[0;34m()\u001b[0m\n\u001b[1;32m    831\u001b[0m     \u001b[0;32mif\u001b[0m \u001b[0mis_keras_rnn_cell\u001b[0m \u001b[0;32mand\u001b[0m \u001b[0;32mnot\u001b[0m \u001b[0mnest\u001b[0m\u001b[0;34m.\u001b[0m\u001b[0mis_sequence\u001b[0m\u001b[0;34m(\u001b[0m\u001b[0mstate\u001b[0m\u001b[0;34m)\u001b[0m\u001b[0;34m:\u001b[0m\u001b[0;34m\u001b[0m\u001b[0m\n\u001b[1;32m    832\u001b[0m       \u001b[0mstate\u001b[0m \u001b[0;34m=\u001b[0m \u001b[0;34m[\u001b[0m\u001b[0mstate\u001b[0m\u001b[0;34m]\u001b[0m\u001b[0;34m\u001b[0m\u001b[0m\n\u001b[0;32m--> 833\u001b[0;31m     \u001b[0mcall_cell\u001b[0m \u001b[0;34m=\u001b[0m \u001b[0;32mlambda\u001b[0m\u001b[0;34m:\u001b[0m \u001b[0mcell\u001b[0m\u001b[0;34m(\u001b[0m\u001b[0minput_t\u001b[0m\u001b[0;34m,\u001b[0m \u001b[0mstate\u001b[0m\u001b[0;34m)\u001b[0m\u001b[0;34m\u001b[0m\u001b[0m\n\u001b[0m\u001b[1;32m    834\u001b[0m \u001b[0;34m\u001b[0m\u001b[0m\n\u001b[1;32m    835\u001b[0m     \u001b[0;32mif\u001b[0m \u001b[0msequence_length\u001b[0m \u001b[0;32mis\u001b[0m \u001b[0;32mnot\u001b[0m \u001b[0mNone\u001b[0m\u001b[0;34m:\u001b[0m\u001b[0;34m\u001b[0m\u001b[0m\n",
            "\u001b[0;32m/usr/local/lib/python2.7/dist-packages/tensorflow/python/ops/rnn_cell_impl.pyc\u001b[0m in \u001b[0;36m__call__\u001b[0;34m(self, inputs, state, scope, *args, **kwargs)\u001b[0m\n\u001b[1;32m    369\u001b[0m     \u001b[0;31m# method.  See the class docstring for more details.\u001b[0m\u001b[0;34m\u001b[0m\u001b[0;34m\u001b[0m\u001b[0m\n\u001b[1;32m    370\u001b[0m     return base_layer.Layer.__call__(self, inputs, state, scope=scope,\n\u001b[0;32m--> 371\u001b[0;31m                                      *args, **kwargs)\n\u001b[0m\u001b[1;32m    372\u001b[0m \u001b[0;34m\u001b[0m\u001b[0m\n\u001b[1;32m    373\u001b[0m \u001b[0;34m\u001b[0m\u001b[0m\n",
            "\u001b[0;32m/usr/local/lib/python2.7/dist-packages/tensorflow/python/layers/base.pyc\u001b[0m in \u001b[0;36m__call__\u001b[0;34m(self, inputs, *args, **kwargs)\u001b[0m\n\u001b[1;32m    528\u001b[0m \u001b[0;34m\u001b[0m\u001b[0m\n\u001b[1;32m    529\u001b[0m       \u001b[0;31m# Actually call layer\u001b[0m\u001b[0;34m\u001b[0m\u001b[0;34m\u001b[0m\u001b[0m\n\u001b[0;32m--> 530\u001b[0;31m       \u001b[0moutputs\u001b[0m \u001b[0;34m=\u001b[0m \u001b[0msuper\u001b[0m\u001b[0;34m(\u001b[0m\u001b[0mLayer\u001b[0m\u001b[0;34m,\u001b[0m \u001b[0mself\u001b[0m\u001b[0;34m)\u001b[0m\u001b[0;34m.\u001b[0m\u001b[0m__call__\u001b[0m\u001b[0;34m(\u001b[0m\u001b[0minputs\u001b[0m\u001b[0;34m,\u001b[0m \u001b[0;34m*\u001b[0m\u001b[0margs\u001b[0m\u001b[0;34m,\u001b[0m \u001b[0;34m**\u001b[0m\u001b[0mkwargs\u001b[0m\u001b[0;34m)\u001b[0m\u001b[0;34m\u001b[0m\u001b[0m\n\u001b[0m\u001b[1;32m    531\u001b[0m \u001b[0;34m\u001b[0m\u001b[0m\n\u001b[1;32m    532\u001b[0m     \u001b[0;32mif\u001b[0m \u001b[0;32mnot\u001b[0m \u001b[0mcontext\u001b[0m\u001b[0;34m.\u001b[0m\u001b[0mexecuting_eagerly\u001b[0m\u001b[0;34m(\u001b[0m\u001b[0;34m)\u001b[0m\u001b[0;34m:\u001b[0m\u001b[0;34m\u001b[0m\u001b[0m\n",
            "\u001b[0;32m/usr/local/lib/python2.7/dist-packages/tensorflow/python/keras/engine/base_layer.pyc\u001b[0m in \u001b[0;36m__call__\u001b[0;34m(self, inputs, *args, **kwargs)\u001b[0m\n\u001b[1;32m    536\u001b[0m       \u001b[0;32mif\u001b[0m \u001b[0;32mnot\u001b[0m \u001b[0mself\u001b[0m\u001b[0;34m.\u001b[0m\u001b[0mbuilt\u001b[0m\u001b[0;34m:\u001b[0m\u001b[0;34m\u001b[0m\u001b[0m\n\u001b[1;32m    537\u001b[0m         \u001b[0;31m# Build layer if applicable (if the `build` method has been overridden).\u001b[0m\u001b[0;34m\u001b[0m\u001b[0;34m\u001b[0m\u001b[0m\n\u001b[0;32m--> 538\u001b[0;31m         \u001b[0mself\u001b[0m\u001b[0;34m.\u001b[0m\u001b[0m_maybe_build\u001b[0m\u001b[0;34m(\u001b[0m\u001b[0minputs\u001b[0m\u001b[0;34m)\u001b[0m\u001b[0;34m\u001b[0m\u001b[0m\n\u001b[0m\u001b[1;32m    539\u001b[0m         \u001b[0;31m# We must set self.built since user defined build functions are not\u001b[0m\u001b[0;34m\u001b[0m\u001b[0;34m\u001b[0m\u001b[0m\n\u001b[1;32m    540\u001b[0m         \u001b[0;31m# constrained to set self.built.\u001b[0m\u001b[0;34m\u001b[0m\u001b[0;34m\u001b[0m\u001b[0m\n",
            "\u001b[0;32m/usr/local/lib/python2.7/dist-packages/tensorflow/python/keras/engine/base_layer.pyc\u001b[0m in \u001b[0;36m_maybe_build\u001b[0;34m(self, inputs)\u001b[0m\n\u001b[1;32m   1601\u001b[0m     \u001b[0;31m# Only call `build` if the user has manually overridden the build method.\u001b[0m\u001b[0;34m\u001b[0m\u001b[0;34m\u001b[0m\u001b[0m\n\u001b[1;32m   1602\u001b[0m     \u001b[0;32mif\u001b[0m \u001b[0;32mnot\u001b[0m \u001b[0mhasattr\u001b[0m\u001b[0;34m(\u001b[0m\u001b[0mself\u001b[0m\u001b[0;34m.\u001b[0m\u001b[0mbuild\u001b[0m\u001b[0;34m,\u001b[0m \u001b[0;34m'_is_default'\u001b[0m\u001b[0;34m)\u001b[0m\u001b[0;34m:\u001b[0m\u001b[0;34m\u001b[0m\u001b[0m\n\u001b[0;32m-> 1603\u001b[0;31m       \u001b[0mself\u001b[0m\u001b[0;34m.\u001b[0m\u001b[0mbuild\u001b[0m\u001b[0;34m(\u001b[0m\u001b[0minput_shapes\u001b[0m\u001b[0;34m)\u001b[0m\u001b[0;34m\u001b[0m\u001b[0m\n\u001b[0m\u001b[1;32m   1604\u001b[0m \u001b[0;34m\u001b[0m\u001b[0m\n\u001b[1;32m   1605\u001b[0m   \u001b[0;32mdef\u001b[0m \u001b[0m__setattr__\u001b[0m\u001b[0;34m(\u001b[0m\u001b[0mself\u001b[0m\u001b[0;34m,\u001b[0m \u001b[0mname\u001b[0m\u001b[0;34m,\u001b[0m \u001b[0mvalue\u001b[0m\u001b[0;34m)\u001b[0m\u001b[0;34m:\u001b[0m\u001b[0;34m\u001b[0m\u001b[0m\n",
            "\u001b[0;32m/usr/local/lib/python2.7/dist-packages/tensorflow/python/keras/utils/tf_utils.pyc\u001b[0m in \u001b[0;36mwrapper\u001b[0;34m(instance, input_shape)\u001b[0m\n\u001b[1;32m    149\u001b[0m       \u001b[0;32melse\u001b[0m\u001b[0;34m:\u001b[0m\u001b[0;34m\u001b[0m\u001b[0m\n\u001b[1;32m    150\u001b[0m         \u001b[0minput_shape\u001b[0m \u001b[0;34m=\u001b[0m \u001b[0mtuple\u001b[0m\u001b[0;34m(\u001b[0m\u001b[0mtensor_shape\u001b[0m\u001b[0;34m.\u001b[0m\u001b[0mTensorShape\u001b[0m\u001b[0;34m(\u001b[0m\u001b[0minput_shape\u001b[0m\u001b[0;34m)\u001b[0m\u001b[0;34m.\u001b[0m\u001b[0mas_list\u001b[0m\u001b[0;34m(\u001b[0m\u001b[0;34m)\u001b[0m\u001b[0;34m)\u001b[0m\u001b[0;34m\u001b[0m\u001b[0m\n\u001b[0;32m--> 151\u001b[0;31m     \u001b[0moutput_shape\u001b[0m \u001b[0;34m=\u001b[0m \u001b[0mfn\u001b[0m\u001b[0;34m(\u001b[0m\u001b[0minstance\u001b[0m\u001b[0;34m,\u001b[0m \u001b[0minput_shape\u001b[0m\u001b[0;34m)\u001b[0m\u001b[0;34m\u001b[0m\u001b[0m\n\u001b[0m\u001b[1;32m    152\u001b[0m     \u001b[0;32mif\u001b[0m \u001b[0moutput_shape\u001b[0m \u001b[0;32mis\u001b[0m \u001b[0;32mnot\u001b[0m \u001b[0mNone\u001b[0m\u001b[0;34m:\u001b[0m\u001b[0;34m\u001b[0m\u001b[0m\n\u001b[1;32m    153\u001b[0m       \u001b[0;32mif\u001b[0m \u001b[0misinstance\u001b[0m\u001b[0;34m(\u001b[0m\u001b[0moutput_shape\u001b[0m\u001b[0;34m,\u001b[0m \u001b[0mlist\u001b[0m\u001b[0;34m)\u001b[0m\u001b[0;34m:\u001b[0m\u001b[0;34m\u001b[0m\u001b[0m\n",
            "\u001b[0;32m/usr/local/lib/python2.7/dist-packages/tensorflow/python/ops/rnn_cell_impl.pyc\u001b[0m in \u001b[0;36mbuild\u001b[0;34m(self, inputs_shape)\u001b[0m\n\u001b[1;32m    437\u001b[0m     self._kernel = self.add_variable(\n\u001b[1;32m    438\u001b[0m         \u001b[0m_WEIGHTS_VARIABLE_NAME\u001b[0m\u001b[0;34m,\u001b[0m\u001b[0;34m\u001b[0m\u001b[0m\n\u001b[0;32m--> 439\u001b[0;31m         shape=[input_depth + self._num_units, self._num_units])\n\u001b[0m\u001b[1;32m    440\u001b[0m     self._bias = self.add_variable(\n\u001b[1;32m    441\u001b[0m         \u001b[0m_BIAS_VARIABLE_NAME\u001b[0m\u001b[0;34m,\u001b[0m\u001b[0;34m\u001b[0m\u001b[0m\n",
            "\u001b[0;32m/usr/local/lib/python2.7/dist-packages/tensorflow/python/keras/engine/base_layer.pyc\u001b[0m in \u001b[0;36madd_variable\u001b[0;34m(self, *args, **kwargs)\u001b[0m\n\u001b[1;32m   1230\u001b[0m   \u001b[0;32mdef\u001b[0m \u001b[0madd_variable\u001b[0m\u001b[0;34m(\u001b[0m\u001b[0mself\u001b[0m\u001b[0;34m,\u001b[0m \u001b[0;34m*\u001b[0m\u001b[0margs\u001b[0m\u001b[0;34m,\u001b[0m \u001b[0;34m**\u001b[0m\u001b[0mkwargs\u001b[0m\u001b[0;34m)\u001b[0m\u001b[0;34m:\u001b[0m\u001b[0;34m\u001b[0m\u001b[0m\n\u001b[1;32m   1231\u001b[0m     \u001b[0;34m\"\"\"Alias for `add_weight`.\"\"\"\u001b[0m\u001b[0;34m\u001b[0m\u001b[0m\n\u001b[0;32m-> 1232\u001b[0;31m     \u001b[0;32mreturn\u001b[0m \u001b[0mself\u001b[0m\u001b[0;34m.\u001b[0m\u001b[0madd_weight\u001b[0m\u001b[0;34m(\u001b[0m\u001b[0;34m*\u001b[0m\u001b[0margs\u001b[0m\u001b[0;34m,\u001b[0m \u001b[0;34m**\u001b[0m\u001b[0mkwargs\u001b[0m\u001b[0;34m)\u001b[0m\u001b[0;34m\u001b[0m\u001b[0m\n\u001b[0m\u001b[1;32m   1233\u001b[0m \u001b[0;34m\u001b[0m\u001b[0m\n\u001b[1;32m   1234\u001b[0m   \u001b[0;34m@\u001b[0m\u001b[0mproperty\u001b[0m\u001b[0;34m\u001b[0m\u001b[0m\n",
            "\u001b[0;32m/usr/local/lib/python2.7/dist-packages/tensorflow/python/layers/base.pyc\u001b[0m in \u001b[0;36madd_weight\u001b[0;34m(self, name, shape, dtype, initializer, regularizer, trainable, constraint, use_resource, synchronization, aggregation, partitioner)\u001b[0m\n\u001b[1;32m    433\u001b[0m             \u001b[0msynchronization\u001b[0m\u001b[0;34m=\u001b[0m\u001b[0msynchronization\u001b[0m\u001b[0;34m,\u001b[0m\u001b[0;34m\u001b[0m\u001b[0m\n\u001b[1;32m    434\u001b[0m             \u001b[0maggregation\u001b[0m\u001b[0;34m=\u001b[0m\u001b[0maggregation\u001b[0m\u001b[0;34m,\u001b[0m\u001b[0;34m\u001b[0m\u001b[0m\n\u001b[0;32m--> 435\u001b[0;31m             getter=vs.get_variable)\n\u001b[0m\u001b[1;32m    436\u001b[0m \u001b[0;34m\u001b[0m\u001b[0m\n\u001b[1;32m    437\u001b[0m         \u001b[0;32mif\u001b[0m \u001b[0mregularizer\u001b[0m\u001b[0;34m:\u001b[0m\u001b[0;34m\u001b[0m\u001b[0m\n",
            "\u001b[0;32m/usr/local/lib/python2.7/dist-packages/tensorflow/python/keras/engine/base_layer.pyc\u001b[0m in \u001b[0;36madd_weight\u001b[0;34m(self, name, shape, dtype, initializer, regularizer, trainable, constraint, partitioner, use_resource, synchronization, aggregation, **kwargs)\u001b[0m\n\u001b[1;32m    347\u001b[0m         \u001b[0mcollections\u001b[0m\u001b[0;34m=\u001b[0m\u001b[0mcollections\u001b[0m\u001b[0;34m,\u001b[0m\u001b[0;34m\u001b[0m\u001b[0m\n\u001b[1;32m    348\u001b[0m         \u001b[0msynchronization\u001b[0m\u001b[0;34m=\u001b[0m\u001b[0msynchronization\u001b[0m\u001b[0;34m,\u001b[0m\u001b[0;34m\u001b[0m\u001b[0m\n\u001b[0;32m--> 349\u001b[0;31m         aggregation=aggregation)\n\u001b[0m\u001b[1;32m    350\u001b[0m     \u001b[0mbackend\u001b[0m\u001b[0;34m.\u001b[0m\u001b[0mtrack_variable\u001b[0m\u001b[0;34m(\u001b[0m\u001b[0mvariable\u001b[0m\u001b[0;34m)\u001b[0m\u001b[0;34m\u001b[0m\u001b[0m\n\u001b[1;32m    351\u001b[0m \u001b[0;34m\u001b[0m\u001b[0m\n",
            "\u001b[0;32m/usr/local/lib/python2.7/dist-packages/tensorflow/python/training/checkpointable/base.pyc\u001b[0m in \u001b[0;36m_add_variable_with_custom_getter\u001b[0;34m(self, name, shape, dtype, initializer, getter, overwrite, **kwargs_for_getter)\u001b[0m\n\u001b[1;32m    605\u001b[0m     new_variable = getter(\n\u001b[1;32m    606\u001b[0m         \u001b[0mname\u001b[0m\u001b[0;34m=\u001b[0m\u001b[0mname\u001b[0m\u001b[0;34m,\u001b[0m \u001b[0mshape\u001b[0m\u001b[0;34m=\u001b[0m\u001b[0mshape\u001b[0m\u001b[0;34m,\u001b[0m \u001b[0mdtype\u001b[0m\u001b[0;34m=\u001b[0m\u001b[0mdtype\u001b[0m\u001b[0;34m,\u001b[0m \u001b[0minitializer\u001b[0m\u001b[0;34m=\u001b[0m\u001b[0minitializer\u001b[0m\u001b[0;34m,\u001b[0m\u001b[0;34m\u001b[0m\u001b[0m\n\u001b[0;32m--> 607\u001b[0;31m         **kwargs_for_getter)\n\u001b[0m\u001b[1;32m    608\u001b[0m \u001b[0;34m\u001b[0m\u001b[0m\n\u001b[1;32m    609\u001b[0m     \u001b[0;31m# If we set an initializer and the variable processed it, tracking will not\u001b[0m\u001b[0;34m\u001b[0m\u001b[0;34m\u001b[0m\u001b[0m\n",
            "\u001b[0;32m/usr/local/lib/python2.7/dist-packages/tensorflow/python/ops/variable_scope.pyc\u001b[0m in \u001b[0;36mget_variable\u001b[0;34m(name, shape, dtype, initializer, regularizer, trainable, collections, caching_device, partitioner, validate_shape, use_resource, custom_getter, constraint, synchronization, aggregation)\u001b[0m\n\u001b[1;32m   1477\u001b[0m       \u001b[0mconstraint\u001b[0m\u001b[0;34m=\u001b[0m\u001b[0mconstraint\u001b[0m\u001b[0;34m,\u001b[0m\u001b[0;34m\u001b[0m\u001b[0m\n\u001b[1;32m   1478\u001b[0m       \u001b[0msynchronization\u001b[0m\u001b[0;34m=\u001b[0m\u001b[0msynchronization\u001b[0m\u001b[0;34m,\u001b[0m\u001b[0;34m\u001b[0m\u001b[0m\n\u001b[0;32m-> 1479\u001b[0;31m       aggregation=aggregation)\n\u001b[0m\u001b[1;32m   1480\u001b[0m \u001b[0;34m\u001b[0m\u001b[0m\n\u001b[1;32m   1481\u001b[0m \u001b[0;34m\u001b[0m\u001b[0m\n",
            "\u001b[0;32m/usr/local/lib/python2.7/dist-packages/tensorflow/python/ops/variable_scope.pyc\u001b[0m in \u001b[0;36mget_variable\u001b[0;34m(self, var_store, name, shape, dtype, initializer, regularizer, reuse, trainable, collections, caching_device, partitioner, validate_shape, use_resource, custom_getter, constraint, synchronization, aggregation)\u001b[0m\n\u001b[1;32m   1218\u001b[0m           \u001b[0mconstraint\u001b[0m\u001b[0;34m=\u001b[0m\u001b[0mconstraint\u001b[0m\u001b[0;34m,\u001b[0m\u001b[0;34m\u001b[0m\u001b[0m\n\u001b[1;32m   1219\u001b[0m           \u001b[0msynchronization\u001b[0m\u001b[0;34m=\u001b[0m\u001b[0msynchronization\u001b[0m\u001b[0;34m,\u001b[0m\u001b[0;34m\u001b[0m\u001b[0m\n\u001b[0;32m-> 1220\u001b[0;31m           aggregation=aggregation)\n\u001b[0m\u001b[1;32m   1221\u001b[0m \u001b[0;34m\u001b[0m\u001b[0m\n\u001b[1;32m   1222\u001b[0m   def _get_partitioned_variable(self,\n",
            "\u001b[0;32m/usr/local/lib/python2.7/dist-packages/tensorflow/python/ops/variable_scope.pyc\u001b[0m in \u001b[0;36mget_variable\u001b[0;34m(self, name, shape, dtype, initializer, regularizer, reuse, trainable, collections, caching_device, partitioner, validate_shape, use_resource, custom_getter, constraint, synchronization, aggregation)\u001b[0m\n\u001b[1;32m    545\u001b[0m           \u001b[0mconstraint\u001b[0m\u001b[0;34m=\u001b[0m\u001b[0mconstraint\u001b[0m\u001b[0;34m,\u001b[0m\u001b[0;34m\u001b[0m\u001b[0m\n\u001b[1;32m    546\u001b[0m           \u001b[0msynchronization\u001b[0m\u001b[0;34m=\u001b[0m\u001b[0msynchronization\u001b[0m\u001b[0;34m,\u001b[0m\u001b[0;34m\u001b[0m\u001b[0m\n\u001b[0;32m--> 547\u001b[0;31m           aggregation=aggregation)\n\u001b[0m\u001b[1;32m    548\u001b[0m \u001b[0;34m\u001b[0m\u001b[0m\n\u001b[1;32m    549\u001b[0m   def _get_partitioned_variable(self,\n",
            "\u001b[0;32m/usr/local/lib/python2.7/dist-packages/tensorflow/python/ops/variable_scope.pyc\u001b[0m in \u001b[0;36m_true_getter\u001b[0;34m(name, shape, dtype, initializer, regularizer, reuse, trainable, collections, caching_device, partitioner, validate_shape, use_resource, constraint, synchronization, aggregation)\u001b[0m\n\u001b[1;32m    497\u001b[0m           \u001b[0mconstraint\u001b[0m\u001b[0;34m=\u001b[0m\u001b[0mconstraint\u001b[0m\u001b[0;34m,\u001b[0m\u001b[0;34m\u001b[0m\u001b[0m\n\u001b[1;32m    498\u001b[0m           \u001b[0msynchronization\u001b[0m\u001b[0;34m=\u001b[0m\u001b[0msynchronization\u001b[0m\u001b[0;34m,\u001b[0m\u001b[0;34m\u001b[0m\u001b[0m\n\u001b[0;32m--> 499\u001b[0;31m           aggregation=aggregation)\n\u001b[0m\u001b[1;32m    500\u001b[0m \u001b[0;34m\u001b[0m\u001b[0m\n\u001b[1;32m    501\u001b[0m     \u001b[0;31m# Set trainable value based on synchronization value.\u001b[0m\u001b[0;34m\u001b[0m\u001b[0;34m\u001b[0m\u001b[0m\n",
            "\u001b[0;32m/usr/local/lib/python2.7/dist-packages/tensorflow/python/ops/variable_scope.pyc\u001b[0m in \u001b[0;36m_get_single_variable\u001b[0;34m(self, name, shape, dtype, initializer, regularizer, partition_info, reuse, trainable, collections, caching_device, validate_shape, use_resource, constraint, synchronization, aggregation)\u001b[0m\n\u001b[1;32m    846\u001b[0m         \u001b[0mtb\u001b[0m \u001b[0;34m=\u001b[0m \u001b[0;34m[\u001b[0m\u001b[0mx\u001b[0m \u001b[0;32mfor\u001b[0m \u001b[0mx\u001b[0m \u001b[0;32min\u001b[0m \u001b[0mtb\u001b[0m \u001b[0;32mif\u001b[0m \u001b[0;34m\"tensorflow/python\"\u001b[0m \u001b[0;32mnot\u001b[0m \u001b[0;32min\u001b[0m \u001b[0mx\u001b[0m\u001b[0;34m[\u001b[0m\u001b[0;36m0\u001b[0m\u001b[0;34m]\u001b[0m\u001b[0;34m]\u001b[0m\u001b[0;34m[\u001b[0m\u001b[0;34m:\u001b[0m\u001b[0;36m3\u001b[0m\u001b[0;34m]\u001b[0m\u001b[0;34m\u001b[0m\u001b[0m\n\u001b[1;32m    847\u001b[0m         raise ValueError(\"%s Originally defined at:\\n\\n%s\" % (err_msg, \"\".join(\n\u001b[0;32m--> 848\u001b[0;31m             traceback.format_list(tb))))\n\u001b[0m\u001b[1;32m    849\u001b[0m       \u001b[0mfound_var\u001b[0m \u001b[0;34m=\u001b[0m \u001b[0mself\u001b[0m\u001b[0;34m.\u001b[0m\u001b[0m_vars\u001b[0m\u001b[0;34m[\u001b[0m\u001b[0mname\u001b[0m\u001b[0;34m]\u001b[0m\u001b[0;34m\u001b[0m\u001b[0m\n\u001b[1;32m    850\u001b[0m       \u001b[0;32mif\u001b[0m \u001b[0;32mnot\u001b[0m \u001b[0mshape\u001b[0m\u001b[0;34m.\u001b[0m\u001b[0mis_compatible_with\u001b[0m\u001b[0;34m(\u001b[0m\u001b[0mfound_var\u001b[0m\u001b[0;34m.\u001b[0m\u001b[0mget_shape\u001b[0m\u001b[0;34m(\u001b[0m\u001b[0;34m)\u001b[0m\u001b[0;34m)\u001b[0m\u001b[0;34m:\u001b[0m\u001b[0;34m\u001b[0m\u001b[0m\n",
            "\u001b[0;31mValueError\u001b[0m: Variable rnn/basic_rnn_cell/kernel already exists, disallowed. Did you mean to set reuse=True or reuse=tf.AUTO_REUSE in VarScope? Originally defined at:\n\n  File \"<ipython-input-41-c0d6db5b4e4d>\", line 12, in <module>\n    outputs, states = tf.nn.dynamic_rnn(basic_cell, X, dtype=tf.float32)\n  File \"/usr/local/lib/python2.7/dist-packages/IPython/core/interactiveshell.py\", line 2882, in run_code\n    exec(code_obj, self.user_global_ns, self.user_ns)\n  File \"/usr/local/lib/python2.7/dist-packages/IPython/core/interactiveshell.py\", line 2822, in run_ast_nodes\n    if self.run_code(code, result):\n"
          ]
        }
      ]
    },
    {
      "cell_type": "code",
      "metadata": {
        "id": "ISWMcYqxIlk7",
        "colab_type": "code",
        "outputId": "5704ce41-9671-4188-d3bc-8b21159036b6",
        "colab": {
          "base_uri": "https://localhost:8080/",
          "height": 1717
        }
      },
      "source": [
        "n_epochs = 100\n",
        "RNN_history = []\n",
        "\n",
        "with tf.Session() as sess:\n",
        "    init.run()\n",
        "    for epoch in range(n_epochs):\n",
        "        X_batch, y_batch = X_val, y_val\n",
        "        sess.run(training_op, feed_dict={X: X_train, y: y_train})\n",
        "        acc_train = accuracy.eval(feed_dict={X: X_train, y: y_train})\n",
        "        acc_test = accuracy.eval(feed_dict={X: X_test, y: y_test})\n",
        "        acc_val = accuracy.eval(feed_dict={X: X_val, y: y_val})\n",
        "\n",
        "        loss_train = loss.eval(feed_dict={X: X_train, y: y_train})\n",
        "        loss_test = loss.eval(feed_dict={X: X_test, y: y_test})\n",
        "        loss_val = loss.eval(feed_dict={X: X_val, y: y_val})\n",
        "        print epoch, 'Train acc: ', acc_train, 'Test acc: ', acc_test\n",
        "        RNN_history.append((acc_train, acc_val, acc_test, loss_train, loss_val, loss_test))\n",
        "    "
      ],
      "execution_count": 0,
      "outputs": [
        {
          "output_type": "stream",
          "text": [
            "0 Train acc:  0.077344894 Test acc:  0.070512824\n",
            "1 Train acc:  0.08355409 Test acc:  0.076585695\n",
            "2 Train acc:  0.09094437 Test acc:  0.08232119\n",
            "3 Train acc:  0.10030877 Test acc:  0.09480432\n",
            "4 Train acc:  0.111208595 Test acc:  0.10290148\n",
            "5 Train acc:  0.120741725 Test acc:  0.1120108\n",
            "6 Train acc:  0.13042672 Test acc:  0.12145749\n",
            "7 Train acc:  0.13990922 Test acc:  0.14035088\n",
            "8 Train acc:  0.14988105 Test acc:  0.15182187\n",
            "9 Train acc:  0.16089898 Test acc:  0.16228071\n",
            "10 Train acc:  0.1724906 Test acc:  0.1754386\n",
            "11 Train acc:  0.18453777 Test acc:  0.18522267\n",
            "12 Train acc:  0.19601128 Test acc:  0.1993927\n",
            "13 Train acc:  0.20667487 Test acc:  0.2088394\n",
            "14 Train acc:  0.2137952 Test acc:  0.21727395\n",
            "15 Train acc:  0.22106737 Test acc:  0.21896087\n",
            "16 Train acc:  0.22764777 Test acc:  0.22435898\n",
            "17 Train acc:  0.23387383 Test acc:  0.23346828\n",
            "18 Train acc:  0.2404036 Test acc:  0.23819163\n",
            "19 Train acc:  0.24679838 Test acc:  0.2388664\n",
            "20 Train acc:  0.25327754 Test acc:  0.24493927\n",
            "21 Train acc:  0.25847435 Test acc:  0.2503374\n",
            "22 Train acc:  0.2629794 Test acc:  0.25674763\n",
            "23 Train acc:  0.26640457 Test acc:  0.26248312\n",
            "24 Train acc:  0.27063966 Test acc:  0.2668691\n",
            "25 Train acc:  0.27367675 Test acc:  0.26956815\n",
            "26 Train acc:  0.2759377 Test acc:  0.26956815\n",
            "27 Train acc:  0.27840114 Test acc:  0.27496627\n",
            "28 Train acc:  0.28162384 Test acc:  0.27834007\n",
            "29 Train acc:  0.2840029 Test acc:  0.27631578\n",
            "30 Train acc:  0.28540334 Test acc:  0.27901486\n",
            "31 Train acc:  0.28749558 Test acc:  0.2813765\n",
            "32 Train acc:  0.2901446 Test acc:  0.2834008\n",
            "33 Train acc:  0.29351917 Test acc:  0.2854251\n",
            "34 Train acc:  0.29564512 Test acc:  0.28981107\n",
            "35 Train acc:  0.29817605 Test acc:  0.29082322\n",
            "36 Train acc:  0.30141562 Test acc:  0.29520917\n",
            "37 Train acc:  0.30418277 Test acc:  0.29925776\n",
            "38 Train acc:  0.30760795 Test acc:  0.30296895\n",
            "39 Train acc:  0.30951458 Test acc:  0.3026316\n",
            "40 Train acc:  0.311843 Test acc:  0.30364373\n",
            "41 Train acc:  0.31425583 Test acc:  0.30836707\n",
            "42 Train acc:  0.31643242 Test acc:  0.30904183\n",
            "43 Train acc:  0.31820405 Test acc:  0.30701753\n",
            "44 Train acc:  0.319672 Test acc:  0.30735493\n",
            "45 Train acc:  0.3218992 Test acc:  0.31039137\n",
            "46 Train acc:  0.32422766 Test acc:  0.31410256\n",
            "47 Train acc:  0.3272985 Test acc:  0.31646425\n",
            "48 Train acc:  0.32923886 Test acc:  0.32152498\n",
            "49 Train acc:  0.3313817 Test acc:  0.32388663\n",
            "50 Train acc:  0.33352455 Test acc:  0.32557356\n",
            "51 Train acc:  0.33532995 Test acc:  0.32523617\n",
            "52 Train acc:  0.33808023 Test acc:  0.32726046\n",
            "53 Train acc:  0.3406955 Test acc:  0.32894737\n",
            "54 Train acc:  0.343412 Test acc:  0.33130905\n",
            "55 Train acc:  0.34562236 Test acc:  0.33468285\n",
            "56 Train acc:  0.3477652 Test acc:  0.33704454\n",
            "57 Train acc:  0.3499924 Test acc:  0.33873144\n",
            "58 Train acc:  0.35220274 Test acc:  0.34109312\n",
            "59 Train acc:  0.35417685 Test acc:  0.34345478\n",
            "60 Train acc:  0.35653904 Test acc:  0.34412956\n",
            "61 Train acc:  0.35851318 Test acc:  0.34412956\n",
            "62 Train acc:  0.3606729 Test acc:  0.34547907\n",
            "63 Train acc:  0.36279887 Test acc:  0.34547907\n",
            "64 Train acc:  0.36458737 Test acc:  0.3485155\n",
            "65 Train acc:  0.36646026 Test acc:  0.3488529\n",
            "66 Train acc:  0.36851874 Test acc:  0.3505398\n",
            "67 Train acc:  0.37081343 Test acc:  0.3508772\n",
            "68 Train acc:  0.37253445 Test acc:  0.3512146\n",
            "69 Train acc:  0.37398553 Test acc:  0.35188934\n",
            "70 Train acc:  0.3750654 Test acc:  0.3525641\n",
            "71 Train acc:  0.37634772 Test acc:  0.35188934\n",
            "72 Train acc:  0.37810248 Test acc:  0.35560054\n",
            "73 Train acc:  0.37953666 Test acc:  0.35526314\n",
            "74 Train acc:  0.38085276 Test acc:  0.35829958\n",
            "75 Train acc:  0.38259065 Test acc:  0.36099866\n",
            "76 Train acc:  0.38439605 Test acc:  0.3620108\n",
            "77 Train acc:  0.38557714 Test acc:  0.3640351\n",
            "78 Train acc:  0.3872138 Test acc:  0.36437246\n",
            "79 Train acc:  0.38888422 Test acc:  0.3677463\n",
            "80 Train acc:  0.3906727 Test acc:  0.3697706\n",
            "81 Train acc:  0.39193818 Test acc:  0.3711201\n",
            "82 Train acc:  0.39408103 Test acc:  0.37584347\n",
            "83 Train acc:  0.3958358 Test acc:  0.3788799\n",
            "84 Train acc:  0.39703375 Test acc:  0.3785425\n",
            "85 Train acc:  0.39853543 Test acc:  0.37921727\n",
            "86 Train acc:  0.39946344 Test acc:  0.37989205\n",
            "87 Train acc:  0.40076265 Test acc:  0.37820512\n",
            "88 Train acc:  0.40209562 Test acc:  0.37989205\n",
            "89 Train acc:  0.40337792 Test acc:  0.37921727\n",
            "90 Train acc:  0.40452528 Test acc:  0.3802294\n",
            "91 Train acc:  0.40582448 Test acc:  0.3788799\n",
            "92 Train acc:  0.40727556 Test acc:  0.3809042\n",
            "93 Train acc:  0.40850726 Test acc:  0.38360325\n",
            "94 Train acc:  0.40958712 Test acc:  0.3846154\n",
            "95 Train acc:  0.41110566 Test acc:  0.38765183\n",
            "96 Train acc:  0.4125061 Test acc:  0.3883266\n",
            "97 Train acc:  0.4129617 Test acc:  0.3879892\n",
            "98 Train acc:  0.41415966 Test acc:  0.39035088\n",
            "99 Train acc:  0.41530702 Test acc:  0.39304993\n"
          ],
          "name": "stdout"
        }
      ]
    },
    {
      "cell_type": "code",
      "metadata": {
        "id": "IOl3AnOdIlk8",
        "colab_type": "code",
        "colab": {}
      },
      "source": [
        "tf.reset_default_graph()"
      ],
      "execution_count": 0,
      "outputs": []
    },
    {
      "cell_type": "code",
      "metadata": {
        "id": "-p9W-LOl7Z_6",
        "colab_type": "code",
        "colab": {}
      },
      "source": [
        "\n",
        "epochs = range(100)\n",
        "\n",
        "val_loss = [i[4] for i in RNN_history]\n",
        "\n",
        "train_loss = [i[3] for i in RNN_history]\n",
        "\n",
        "val_loss = [i[4] for i in RNN_history]\n",
        "\n",
        "test_loss = [i[5] for i in RNN_history]"
      ],
      "execution_count": 0,
      "outputs": []
    },
    {
      "cell_type": "code",
      "metadata": {
        "id": "6zq3JPsBsjAG",
        "colab_type": "code",
        "colab": {}
      },
      "source": [
        "acc_val = [i[1] for i in RNN_history]"
      ],
      "execution_count": 0,
      "outputs": []
    },
    {
      "cell_type": "code",
      "metadata": {
        "id": "--P3V_FA73kp",
        "colab_type": "code",
        "outputId": "c9aaa7a3-0806-4964-8167-6cd8af9d41d8",
        "colab": {
          "base_uri": "https://localhost:8080/",
          "height": 606
        }
      },
      "source": [
        "plt.figure(figsize=(16,10))\n",
        "    \n",
        "plt.plot(epochs, val_loss, '--', label='RNN Val')\n",
        "plt.plot(epochs, train_loss, '-g', label='RNN Train')\n",
        "\n",
        "plt.xlabel('Epochs')\n",
        "plt.ylabel('Loss')\n",
        "plt.legend()\n",
        "\n",
        "plt.show()"
      ],
      "execution_count": 0,
      "outputs": [
        {
          "output_type": "display_data",
          "data": {
            "image/png": "[encoded data removed]",
            "text/plain": [
              "<Figure size 1152x720 with 1 Axes>"
            ]
          },
          "metadata": {
            "tags": []
          }
        }
      ]
    },
    {
      "cell_type": "code",
      "metadata": {
        "id": "zVlwLU3RIlk-",
        "colab_type": "code",
        "colab": {}
      },
      "source": [
        "# Try RNN LSTM model from paper using Keras"
      ],
      "execution_count": 0,
      "outputs": []
    },
    {
      "cell_type": "code",
      "metadata": {
        "id": "r8XNki5vIlk_",
        "colab_type": "code",
        "colab": {}
      },
      "source": [
        "def one_hot_encode(labels):\n",
        "    n_labels = len(labels)\n",
        "    n_unique_labels = len(np.unique(labels))\n",
        "    one_hot_encode = np.zeros((n_labels,n_unique_labels))\n",
        "    one_hot_encode[np.arange(n_labels), labels] = 1\n",
        "    return one_hot_encode"
      ],
      "execution_count": 0,
      "outputs": []
    },
    {
      "cell_type": "code",
      "metadata": {
        "id": "qafZBdroIllB",
        "colab_type": "code",
        "colab": {}
      },
      "source": [
        "labels_onehot = one_hot_encode(labels)"
      ],
      "execution_count": 0,
      "outputs": []
    },
    {
      "cell_type": "code",
      "metadata": {
        "id": "I2rFShXxIllD",
        "colab_type": "code",
        "colab": {}
      },
      "source": [
        "from sklearn.model_selection import train_test_split\n",
        "\n",
        "# X_train, X_tstv, y_train, y_tstv = train_test_split(audio_features, labels, test_size=0.2)\n",
        "\n",
        "X_train, X_tstv, y_train, y_tstv = train_test_split(audio_features, labels_onehot, test_size=0.2)\n",
        "\n",
        "X_val, X_test, y_val, y_test = train_test_split(X_tstv, y_tstv, test_size=0.2)"
      ],
      "execution_count": 0,
      "outputs": []
    },
    {
      "cell_type": "code",
      "metadata": {
        "id": "w2TqGk-FIllG",
        "colab_type": "code",
        "outputId": "7040e3d2-9372-4370-e2cd-da3f4f09fc58",
        "colab": {
          "base_uri": "https://localhost:8080/",
          "height": 598
        }
      },
      "source": [
        "# LSTM architecture devised by Dr. Jason Collins (https://github.com/jaron/deep-listening/blob/master/7-us8k-rnn-extract-train.ipynb)\n",
        "\n",
        "from keras.models import Sequential\n",
        "from keras.layers import LSTM, Dense, Dropout\n",
        "from sklearn.metrics import precision_recall_fscore_support, roc_auc_score\n",
        "from keras.utils import np_utils\n",
        "from keras.callbacks import EarlyStopping\n",
        "\n",
        "data_dim = 41\n",
        "timesteps = 20\n",
        "num_classes = 19\n",
        "\n",
        "# expected input data shape: (batch_size, timesteps, data_dim)\n",
        "model = Sequential()\n",
        "\n",
        "# returns a sequence of vectors of dimension 256\n",
        "model.add(LSTM(512, return_sequences=True, input_shape=(timesteps, data_dim)))  \n",
        "model.add(Dropout(0.15))\n",
        "\n",
        "# returns a sequence of vectors of dimension 256\n",
        "model.add(LSTM(512, return_sequences=True))  \n",
        "model.add(Dropout(0.25))\n",
        "\n",
        "# return a single vector of dimension 128\n",
        "model.add(LSTM(256))  \n",
        "model.add(Dropout(0.35))\n",
        "\n",
        "# apply softmax to output\n",
        "model.add(Dense(num_classes, activation='softmax'))\n",
        "\n",
        "# compile the model for multi-class classification\n",
        "model.compile(loss='categorical_crossentropy', optimizer='adam', metrics=['accuracy'])\n",
        "\n",
        "# a stopping function to stop training before we excessively overfit to the training set\n",
        "earlystop = EarlyStopping(monitor='val_loss', patience=0, verbose=1, mode='auto')\n",
        "model_history = model.fit(X_train, y_train, batch_size=128, epochs=20, callbacks=[earlystop],validation_data=(X_val, y_val))"
      ],
      "execution_count": 0,
      "outputs": [
        {
          "output_type": "stream",
          "text": [
            "WARNING:tensorflow:From /usr/local/lib/python2.7/dist-packages/tensorflow/python/framework/op_def_library.py:263: colocate_with (from tensorflow.python.framework.ops) is deprecated and will be removed in a future version.\n",
            "Instructions for updating:\n",
            "Colocations handled automatically by placer.\n",
            "WARNING:tensorflow:From /usr/local/lib/python2.7/dist-packages/keras/backend/tensorflow_backend.py:3445: calling dropout (from tensorflow.python.ops.nn_ops) with keep_prob is deprecated and will be removed in a future version.\n",
            "Instructions for updating:\n",
            "Please use `rate` instead of `keep_prob`. Rate should be set to `rate = 1 - keep_prob`.\n",
            "WARNING:tensorflow:From /usr/local/lib/python2.7/dist-packages/tensorflow/python/ops/math_ops.py:3066: to_int32 (from tensorflow.python.ops.math_ops) is deprecated and will be removed in a future version.\n",
            "Instructions for updating:\n",
            "Use tf.cast instead.\n",
            "Train on 59267 samples, validate on 11853 samples\n",
            "Epoch 1/20\n",
            "59267/59267 [==============================] - 92s 2ms/step - loss: 1.4426 - acc: 0.5734 - val_loss: 1.0942 - val_acc: 0.6684\n",
            "Epoch 2/20\n",
            "59267/59267 [==============================] - 87s 1ms/step - loss: 0.9395 - acc: 0.7209 - val_loss: 0.8117 - val_acc: 0.7543\n",
            "Epoch 3/20\n",
            "59267/59267 [==============================] - 87s 1ms/step - loss: 0.7347 - acc: 0.7798 - val_loss: 0.6665 - val_acc: 0.7990\n",
            "Epoch 4/20\n",
            "59267/59267 [==============================] - 87s 1ms/step - loss: 0.6117 - acc: 0.8163 - val_loss: 0.5251 - val_acc: 0.8389\n",
            "Epoch 5/20\n",
            "59267/59267 [==============================] - 86s 1ms/step - loss: 0.5048 - acc: 0.8464 - val_loss: 0.4807 - val_acc: 0.8546\n",
            "Epoch 6/20\n",
            "59267/59267 [==============================] - 86s 1ms/step - loss: 0.4329 - acc: 0.8694 - val_loss: 0.4477 - val_acc: 0.8631\n",
            "Epoch 7/20\n",
            "59267/59267 [==============================] - 87s 1ms/step - loss: 0.3600 - acc: 0.8892 - val_loss: 0.4143 - val_acc: 0.8778\n",
            "Epoch 8/20\n",
            "59267/59267 [==============================] - 88s 1ms/step - loss: 0.3215 - acc: 0.9007 - val_loss: 0.3712 - val_acc: 0.8879\n",
            "Epoch 9/20\n",
            "59267/59267 [==============================] - 87s 1ms/step - loss: 0.2919 - acc: 0.9094 - val_loss: 0.3442 - val_acc: 0.8994\n",
            "Epoch 10/20\n",
            "59267/59267 [==============================] - 87s 1ms/step - loss: 0.2642 - acc: 0.9183 - val_loss: 0.3358 - val_acc: 0.9015\n",
            "Epoch 11/20\n",
            "59267/59267 [==============================] - 87s 1ms/step - loss: 0.2484 - acc: 0.9223 - val_loss: 0.3633 - val_acc: 0.8913\n",
            "Epoch 00011: early stopping\n"
          ],
          "name": "stdout"
        }
      ]
    },
    {
      "cell_type": "code",
      "metadata": {
        "id": "VwpCH1drq_Qs",
        "colab_type": "code",
        "colab": {}
      },
      "source": [
        "def plot_history(histories, key='loss'):\n",
        "  plt.figure(figsize=(16,10))\n",
        "    \n",
        "  for name, history in histories:\n",
        "    val = plt.plot(history.epoch, history.history['val_'+key],\n",
        "                   '--', label=name.title()+' Val')\n",
        "    plt.plot(history.epoch, history.history[key], color=val[0].get_color(),\n",
        "             label=name.title()+' Train')\n",
        "\n",
        "  plt.xlabel('Epochs')\n",
        "  plt.ylabel(key.replace('_',' ').title())\n",
        "  plt.legend()\n",
        "\n",
        "  plt.xlim([0,max(history.epoch)])\n",
        "  \n",
        "  plt.show()\n",
        "  \n"
      ],
      "execution_count": 0,
      "outputs": []
    },
    {
      "cell_type": "code",
      "metadata": {
        "id": "xh7rU0snvquQ",
        "colab_type": "code",
        "outputId": "f83892f8-232c-48be-ff66-a23c09d23e4e",
        "colab": {
          "base_uri": "https://localhost:8080/",
          "height": 34
        }
      },
      "source": [
        "model_history.epoch"
      ],
      "execution_count": 0,
      "outputs": [
        {
          "output_type": "execute_result",
          "data": {
            "text/plain": [
              "[0, 1, 2, 3, 4, 5, 6, 7, 8, 9, 10]"
            ]
          },
          "metadata": {
            "tags": []
          },
          "execution_count": 24
        }
      ]
    },
    {
      "cell_type": "code",
      "metadata": {
        "id": "7N5YMC6HwniY",
        "colab_type": "code",
        "outputId": "8a5eb6a8-a31b-4979-86e2-b80fbe5983ef",
        "colab": {
          "base_uri": "https://localhost:8080/",
          "height": 606
        }
      },
      "source": [
        "plot_history([('LSTM model', model_history)])"
      ],
      "execution_count": 0,
      "outputs": [
        {
          "output_type": "display_data",
          "data": {
            "image/png": "[encoded data removed]",
            "text/plain": [
              "<Figure size 1152x720 with 1 Axes>"
            ]
          },
          "metadata": {
            "tags": []
          }
        }
      ]
    },
    {
      "cell_type": "code",
      "metadata": {
        "id": "Uq0FnU1VeILU",
        "colab_type": "code",
        "colab": {}
      },
      "source": [
        "# Match species names to correct classification labels\n",
        "species_names = [\"Rose-crested Blue Pipit\", \"Blue-collared Zipper\", \"Bombadil\", \"Broad-winged Jojo\", \"Canadian Cootamum\", \n",
        "                      \"Carries Champagne Pipit\", \"Darkwing Sparrow\", \"Eastern Corn Skeet\", \"Green-tipped Scarlet Pipit\", \n",
        "                      \"Lesser Birchbeere\", \"Orange Pine Plover\", \"Ordinary Snape\", \"Pinkfinch\", \"Purple Tooting Tout\", \n",
        "                      \"Qax\", \"Queenscoat\", \"Bent-beak Riffraff\", \"Scrawny Jay\", \"Vermillion Trillian\"]\n",
        "\n",
        "model_prediction_species = []\n",
        "\n",
        "for oneHot in y_test:\n",
        "    uniqueValues, uniqueIndexes = np.unique(oneHot, return_index=True)\n",
        "    \n",
        "    model_prediction_species.append(species_names[uniqueIndexes[1]])\n",
        "    #print (\"Index: \" + str(index) + \" | \" + species_names[index])"
      ],
      "execution_count": 0,
      "outputs": []
    },
    {
      "cell_type": "code",
      "metadata": {
        "id": "PykqqkiYfBm0",
        "colab_type": "code",
        "colab": {}
      },
      "source": [
        "prediction_features = []\n",
        "prediction_features=X_test # For later use in 'Test Model' section\n"
      ],
      "execution_count": 0,
      "outputs": []
    },
    {
      "cell_type": "code",
      "metadata": {
        "id": "2hWglhgMeSrc",
        "colab_type": "code",
        "colab": {}
      },
      "source": [
        "# Create predictions for each of the sound classes\n",
        "\n",
        "# Variables used to calculate correct percentanges \n",
        "total_correct = 0\n",
        "correct_by_species = []\n",
        "species_correct = 0;\n",
        "species_total = 0;\n",
        "current_species = \"Rose-crested Blue Pipit\"\n",
        "\n",
        "# Loop over each feature set from test data\n",
        "for s in range(len(model_prediction_species)):\n",
        "    \n",
        "    # Handles correct percentages per species\n",
        "    if (current_species != model_prediction_species[s]):\n",
        "        percent = float(species_correct) / species_total\n",
        "        correct_by_species.append(str(current_species) + \": \" + str(percent) + \" (\" + str(species_correct) + \"/\" + str(species_total) + \")\")\n",
        "        species_correct = 0\n",
        "        species_total = 0\n",
        "        \n",
        "    # Grab ground truth for current feature set to be tested against\n",
        "    current_species = model_prediction_species[s]\n",
        "    #print (\"\\n----- \", current_species, \"-----\")\n",
        "    \n",
        "    # Load prediction_features for current_species\n",
        "    predict_x = prediction_features[s]\n",
        "    predict_x = np.expand_dims(predict_x, axis=0)\n",
        "    predictions = model.predict(predict_x)\n",
        "\n",
        "    # If no prediction was able to be generated, print so\n",
        "    if len(predictions) == 0: \n",
        "        print (\"No prediction\")\n",
        "    \n",
        "    # If not, print the top 3 guesses\n",
        "    ind = predictions[0].argsort()[-3:][::-1]\n",
        "    #print (\"Top guess: \", species_names[ind[0]], \" (\",round(predictions[0,ind[0]],3),\")\")\n",
        "    #print (\"2nd guess: \", species_names[ind[1]], \" (\",round(predictions[0,ind[1]],3),\")\")\n",
        "    #print (\"3rd guess: \", species_names[ind[2]], \" (\",round(predictions[0,ind[2]],3),\")\")\n",
        "    \n",
        "    # Accumulate number of correct guesses for percentage calculations\n",
        "    if (species_names[ind[0]] == current_species):\n",
        "        total_correct += 1\n",
        "        species_correct += 1\n",
        "    species_total += 1\n",
        "\n",
        "# Print final results\n",
        "percentCorrect = (float(total_correct) / len(model_prediction_species))\n",
        "print (\"\\n----- Percent correct -----\")\n",
        "print (percentCorrect)\n",
        "print (correct_by_species)\n",
        "for i in correct_by_species: # Print out the percentage correct for each classifier\n",
        "    print(i)"
      ],
      "execution_count": 0,
      "outputs": []
    },
    {
      "cell_type": "code",
      "metadata": {
        "id": "_E1sjX26jg_Z",
        "colab_type": "code",
        "colab": {}
      },
      "source": [
        "test_features = np.load('/content/gdrive/My Drive/Colab Notebooks/test_features.npy')"
      ],
      "execution_count": 0,
      "outputs": []
    },
    {
      "cell_type": "code",
      "metadata": {
        "id": "cM0Mq_sflamJ",
        "colab_type": "code",
        "colab": {}
      },
      "source": [
        "test_refs = np.load('/content/gdrive/My Drive/Colab Notebooks/test_refs.npy')"
      ],
      "execution_count": 0,
      "outputs": []
    },
    {
      "cell_type": "code",
      "metadata": {
        "id": "MGegN8cNjywq",
        "colab_type": "code",
        "colab": {}
      },
      "source": [
        "predictions = model.predict(test_features)"
      ],
      "execution_count": 0,
      "outputs": []
    },
    {
      "cell_type": "code",
      "metadata": {
        "id": "-OHoZW8OkCTX",
        "colab_type": "code",
        "colab": {}
      },
      "source": [
        "tmp=np.sum(predictions[test_refs=='7.mp3'], axis=0)"
      ],
      "execution_count": 0,
      "outputs": []
    },
    {
      "cell_type": "code",
      "metadata": {
        "id": "y9MHC2_7n7Wf",
        "colab_type": "code",
        "outputId": "43496c04-2319-4f1c-c096-d4ccedcbb85c",
        "colab": {
          "base_uri": "https://localhost:8080/",
          "height": 34
        }
      },
      "source": [
        "int(np.where(tmp==max(tmp))[0])"
      ],
      "execution_count": 0,
      "outputs": [
        {
          "output_type": "execute_result",
          "data": {
            "text/plain": [
              "17"
            ]
          },
          "metadata": {
            "tags": []
          },
          "execution_count": 48
        }
      ]
    },
    {
      "cell_type": "code",
      "metadata": {
        "id": "CEykaYVwmQYw",
        "colab_type": "code",
        "colab": {}
      },
      "source": [
        "kasios_classifications=list()\n",
        "\n",
        "for i in np.unique(test_refs):\n",
        "  sum = np.sum(predictions[test_refs==i], axis=0)\n",
        "  prediction = int(np.where(sum==max(sum))[0])\n",
        "  prediction = species_names[prediction]\n",
        "  kasios_classifications.append((i, prediction))\n",
        "                        "
      ],
      "execution_count": 0,
      "outputs": []
    },
    {
      "cell_type": "code",
      "metadata": {
        "id": "RES1borVpHJ8",
        "colab_type": "code",
        "outputId": "7b447e7c-8cd7-4b9f-a27d-5d5bb4606f37",
        "colab": {
          "base_uri": "https://localhost:8080/",
          "height": 272
        }
      },
      "source": [
        "kasios_classifications"
      ],
      "execution_count": 0,
      "outputs": [
        {
          "output_type": "execute_result",
          "data": {
            "text/plain": [
              "[('1.mp3', 'Broad-winged Jojo'),\n",
              " ('10.mp3', 'Orange Pine Plover'),\n",
              " ('11.mp3', 'Bombadil'),\n",
              " ('12.mp3', 'Orange Pine Plover'),\n",
              " ('13.mp3', 'Rose-crested Blue Pipit'),\n",
              " ('14.mp3', 'Darkwing Sparrow'),\n",
              " ('15.mp3', 'Bent-beak Riffraff'),\n",
              " ('2.mp3', 'Rose-crested Blue Pipit'),\n",
              " ('3.mp3', 'Bombadil'),\n",
              " ('4.mp3', 'Bombadil'),\n",
              " ('5.mp3', 'Bombadil'),\n",
              " ('6.mp3', 'Green-tipped Scarlet Pipit'),\n",
              " ('7.mp3', 'Scrawny Jay'),\n",
              " ('8.mp3', 'Lesser Birchbeere'),\n",
              " ('9.mp3', 'Rose-crested Blue Pipit')]"
            ]
          },
          "metadata": {
            "tags": []
          },
          "execution_count": 51
        }
      ]
    },
    {
      "cell_type": "code",
      "metadata": {
        "id": "ZMEk14ljpTH5",
        "colab_type": "code",
        "colab": {}
      },
      "source": [
        "np.save('/content/gdrive/My Drive/Colab Notebooks/kasios_classifications.npy', kasios_classifications)"
      ],
      "execution_count": 0,
      "outputs": []
    },
    {
      "cell_type": "markdown",
      "metadata": {
        "id": "S8e7ojPyIllI",
        "colab_type": "text"
      },
      "source": [
        "# Plots and spectra"
      ]
    },
    {
      "cell_type": "code",
      "metadata": {
        "id": "cuj9cHvuIllJ",
        "colab_type": "code",
        "colab": {}
      },
      "source": [
        "librosa.display.waveplot(audio_data[4][0], sr)"
      ],
      "execution_count": 0,
      "outputs": []
    },
    {
      "cell_type": "code",
      "metadata": {
        "id": "RKoj-K4GIllL",
        "colab_type": "code",
        "colab": {}
      },
      "source": [
        "ipd.Audio(audio_data[3][0], rate=sr)"
      ],
      "execution_count": 0,
      "outputs": []
    },
    {
      "cell_type": "code",
      "metadata": {
        "id": "7-eqQy-2IllN",
        "colab_type": "code",
        "colab": {}
      },
      "source": [
        "librosa.display.waveplot(audio, sr)"
      ],
      "execution_count": 0,
      "outputs": []
    },
    {
      "cell_type": "code",
      "metadata": {
        "id": "2h-NT7mVIllO",
        "colab_type": "code",
        "colab": {}
      },
      "source": [
        "ipd.Audio(audio, rate=sr)"
      ],
      "execution_count": 0,
      "outputs": []
    },
    {
      "cell_type": "code",
      "metadata": {
        "id": "kRLsDyZgIllQ",
        "colab_type": "code",
        "colab": {}
      },
      "source": [
        "pow_melspec = librosa.feature.melspectrogram(audio, sr, power=2.0)"
      ],
      "execution_count": 0,
      "outputs": []
    },
    {
      "cell_type": "code",
      "metadata": {
        "id": "K3nyDijmIllT",
        "colab_type": "code",
        "colab": {}
      },
      "source": [
        "db_melspec=librosa.power_to_db(pow_melspec)\n",
        "plt.figure(figsize=(10, 4))\n",
        "librosa.display.specshow(db_melspec, x_axis='time')\n",
        "plt.colorbar()\n"
      ],
      "execution_count": 0,
      "outputs": []
    },
    {
      "cell_type": "code",
      "metadata": {
        "id": "_CwS6O5AIllV",
        "colab_type": "code",
        "colab": {}
      },
      "source": [
        ""
      ],
      "execution_count": 0,
      "outputs": []
    },
    {
      "cell_type": "code",
      "metadata": {
        "id": "chvwxJiuIllX",
        "colab_type": "code",
        "colab": {}
      },
      "source": [
        "# split to 30s segments with x% (read papers) overlapping via indexing; for final window when index is > len, take [:-30]"
      ],
      "execution_count": 0,
      "outputs": []
    },
    {
      "cell_type": "code",
      "metadata": {
        "id": "I7r5Y_41pHXN",
        "colab_type": "code",
        "colab": {}
      },
      "source": [
        ""
      ],
      "execution_count": 0,
      "outputs": []
    }
  ]
}